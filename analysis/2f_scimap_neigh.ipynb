{
 "cells": [
  {
   "cell_type": "markdown",
   "metadata": {},
   "source": [
    "### Continuing with the Scimap framework\n",
    "Plotting and doing spatial analysis cont'd"
   ]
  },
  {
   "cell_type": "code",
   "execution_count": null,
   "metadata": {},
   "outputs": [],
   "source": [
    "import sys\n",
    "import os\n",
    "from functions import glasbey\n",
    "import sklearn\n",
    "import matplotlib.pyplot as plt\n",
    "import matplotlib as mpl\n",
    "from anndata import AnnData\n",
    "import anndata as ad\n",
    "import scimap as sm\n",
    "import pandas as pd\n",
    "import numpy as np\n",
    "import scanpy as sc\n",
    "import seaborn as sns\n",
    "import copy\n",
    "import os\n",
    "\n",
    "# read in saved anndata object\n",
    "data_path = os.path.join('..', 'outputs', 'adata2.h5ad')\n",
    "\n",
    "if os.path.exists(data_path):\n",
    "    adata = ad.read_h5ad(data_path)\n",
    "else:\n",
    "    print(f\"File not found. Check path.\")\n",
    "\n",
    "metadata = ['Image', 'Object ID', 'Classification', 'Parent', 'Centroid X µm', 'Centroid Y µm', 'Leiden', 'phenotype', 'Timepoint']\n",
    "markers = ['DAPI', 'CD44', 'HLA-DR', 'CD4', 'IFNG', 'Ki67', 'CD107a', 'CD45', 'CD20', 'CD40', 'CD8', 'Pan-Cytokeratin', 'CD68', 'HLA-A', 'CD79a', 'CD45RO', 'CD21', 'CD11c', 'HLA-E', 'IDO1', 'CD14', 'CD56', 'VISTA', 'FOXP3', 'Granzyme B', 'PCNA', 'T-bet/TBX21', 'PD-L1', 'TOX', 'PD-1', 'CD38', 'ICOS', 'CD39', 'LAG3', 'TCF-1', 'CD3e']"
   ]
  },
  {
   "cell_type": "code",
   "execution_count": null,
   "metadata": {},
   "outputs": [],
   "source": [
    "print(adata)"
   ]
  },
  {
   "cell_type": "code",
   "execution_count": null,
   "metadata": {},
   "outputs": [],
   "source": [
    "# make a responder adata object and a non-responder one so can plot them separately\n",
    "responders = adata.obs['Pathologic_Response'] == 'Response'\n",
    "adata_responders = adata[responders].copy()\n",
    "non_responders = adata.obs['Pathologic_Response'] == 'No Response'\n",
    "adata_non_resp = adata[non_responders].copy()\n",
    "print(adata_responders)"
   ]
  },
  {
   "cell_type": "markdown",
   "metadata": {},
   "source": [
    "### Neighbourhood analysis\n",
    "Define spatial neighbourhoods, understand their compositions"
   ]
  },
  {
   "cell_type": "code",
   "execution_count": null,
   "metadata": {},
   "outputs": [],
   "source": [
    "# compute a neighbourhood matrix to identify local cell clusters\n",
    "# within a certain radius or number of nearest neighbours\n",
    "adata = sm.tl.spatial_count(adata, \n",
    "                            x_coordinate='CENTERX',\n",
    "                            y_coordinate='CENTERY',\n",
    "                            imageid='Area',\n",
    "                            phenotype='phenotype', \n",
    "                            method='radius', \n",
    "                            radius=200, \n",
    "                            label='spatial_count')"
   ]
  },
  {
   "cell_type": "code",
   "execution_count": null,
   "metadata": {},
   "outputs": [],
   "source": [
    "# cluster the results - using Leiden\n",
    "adata = sm.tl.spatial_cluster(adata, \n",
    "                              df_name='spatial_count', \n",
    "                              method='leiden', \n",
    "                              n_pcs=9,\n",
    "                              resolution=0.8,\n",
    "                              random_state=42,\n",
    "                              label='neigh_leiden')"
   ]
  },
  {
   "cell_type": "code",
   "execution_count": null,
   "metadata": {},
   "outputs": [],
   "source": [
    "# visualize the results using voronoi plots\n",
    "# d = adata.obs\n",
    "# for area in d['Area'].unique():\n",
    "#     ncells = len(d[d['Area'] == area].index)\n",
    "#     if ncells <= 5000:\n",
    "#         print(area)\n",
    "#         sm.pl.voronoi(adata, \n",
    "#                       imageid='Area',\n",
    "#                       x_coordinate='CENTERX',\n",
    "#                       y_coordinate='CENTERY',\n",
    "#                       flip_y=False,\n",
    "#                       subset=area,\n",
    "#                       color_by='neigh_leiden', \n",
    "#                  voronoi_edge_color = 'black',\n",
    "#                  voronoi_line_width = 0.3, \n",
    "#                  voronoi_alpha = 0.8, \n",
    "#                  size_max=3000,\n",
    "#                  overlay_points=None, \n",
    "#                  plot_legend=True, \n",
    "#                  legend_size=6)"
   ]
  },
  {
   "cell_type": "code",
   "execution_count": null,
   "metadata": {},
   "outputs": [],
   "source": [
    "# plot the composition of neighbourhoods\n",
    "sm.pl.stacked_barplot (adata, \n",
    "                       x_axis='neigh_leiden', \n",
    "                       y_axis='phenotype',\n",
    "                       figsize=(12, 8)\n",
    "                       )"
   ]
  },
  {
   "cell_type": "code",
   "execution_count": 11,
   "metadata": {},
   "outputs": [],
   "source": [
    "# spatial scatter plot with plotly\n",
    "import plotly.express as px\n",
    "import plotly.io as pio\n",
    "\n",
    "def plotly (adata,phenotype,image_id=None,x='CENTERX',y='CENTERY',size=2, **kwargs):\n",
    "    # if image_id is not None:\n",
    "    #     adata = adata[adata.obs['imageid'] == image_id]    \n",
    "    data = pd.DataFrame({'x':adata.obs[x], 'y':adata.obs[y],'col': adata.obs[phenotype]})\n",
    "    data = data.sort_values(by=['col'])\n",
    "    fig = px.scatter(data, x=\"x\", y=\"y\", color=\"col\", **kwargs)\n",
    "    fig.update_traces(marker=dict(size=size),selector=dict(mode='markers'),hoverlabel = dict(namelength = -1))\n",
    "    fig.update_yaxes(autorange=\"reversed\", tickformat='g')\n",
    "    fig.update_xaxes(tickformat='g')\n",
    "    fig.update_layout({'plot_bgcolor': 'rgba(0, 0, 0, 0)','paper_bgcolor': 'rgba(0, 0, 0, 0)'})\n",
    "    fig.show()\n",
    "\n",
    "plotly (adata, phenotype='neigh_leiden', size=8)"
   ]
  },
  {
   "cell_type": "code",
   "execution_count": null,
   "metadata": {},
   "outputs": [],
   "source": [
    "# correlation plot to further help understand which clusters are similar\n",
    "sm.pl.groupCorrelation(adata, \n",
    "                       groupBy='phenotype', \n",
    "                       condition='neigh_leiden', \n",
    "                       cmap='PiYG',\n",
    "                       figsize=(12, 8))"
   ]
  },
  {
   "cell_type": "code",
   "execution_count": null,
   "metadata": {},
   "outputs": [],
   "source": [
    "# TODO: consolidate clusters to neighbourhoods\n",
    "# rename_dict = {'RCN1': ['1'],\n",
    "#                'RCN2': ['0', '4'],\n",
    "#                 'RCN3': ['2'],\n",
    "#                 'RCN4': ['3']}\n",
    "\n",
    "# adata = sm.hl.rename(adata, rename=rename_dict, from_column='neigh_leiden', to_column='RCNs')"
   ]
  },
  {
   "cell_type": "code",
   "execution_count": null,
   "metadata": {},
   "outputs": [],
   "source": [
    "adata.obs"
   ]
  },
  {
   "cell_type": "code",
   "execution_count": null,
   "metadata": {},
   "outputs": [],
   "source": [
    "# visualize RCN compositions between DLN pre and post\n",
    "# stacked bar plot\n",
    "sm.pl.stacked_barplot (adata, \n",
    "                       x_axis='Timepoint', \n",
    "                       y_axis='phenotype')"
   ]
  },
  {
   "cell_type": "code",
   "execution_count": null,
   "metadata": {},
   "outputs": [],
   "source": [
    "# TODO: once neighbourhoods consolidated, \n",
    "# add code to do the stuff in the Spatial LDA part of the tutorial notebook"
   ]
  }
 ],
 "metadata": {
  "kernelspec": {
   "display_name": ".venv",
   "language": "python",
   "name": "python3"
  },
  "language_info": {
   "codemirror_mode": {
    "name": "ipython",
    "version": 3
   },
   "file_extension": ".py",
   "mimetype": "text/x-python",
   "name": "python",
   "nbconvert_exporter": "python",
   "pygments_lexer": "ipython3",
   "version": "3.11.2"
  }
 },
 "nbformat": 4,
 "nbformat_minor": 2
}
