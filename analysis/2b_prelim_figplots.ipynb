{
 "cells": [
  {
   "cell_type": "code",
   "execution_count": 1,
   "metadata": {},
   "outputs": [],
   "source": [
    "from functions import map_scatter, glasbey\n",
    "from matplotlib.ticker import LogLocator, ScalarFormatter, NullFormatter\n",
    "from scipy.cluster.hierarchy import linkage, leaves_list\n",
    "import sklearn\n",
    "import matplotlib.pyplot as plt\n",
    "from anndata import AnnData\n",
    "import pandas as pd\n",
    "import numpy as np\n",
    "import seaborn as sns\n",
    "import colorcet as cc\n",
    "import scanpy as sc\n",
    "import copy\n",
    "import os"
   ]
  },
  {
   "cell_type": "code",
   "execution_count": 2,
   "metadata": {},
   "outputs": [],
   "source": [
    "# read in dimred_clstr data\n",
    "data_path = os.path.join('..', 'outputs', 'dimred_clstr.csv')\n",
    "\n",
    "if os.path.exists(data_path):\n",
    "    df = pd.read_csv(data_path)\n",
    "else:\n",
    "    print(f\"File not found: {data_path}.\\nCheck data path.\")"
   ]
  },
  {
   "cell_type": "code",
   "execution_count": 3,
   "metadata": {},
   "outputs": [
    {
     "name": "stdout",
     "output_type": "stream",
     "text": [
      "['DAPI', 'CD44', 'HLA-DR', 'CD4', 'IFNG', 'Ki67', 'CD107a', 'CD45', 'CD20', 'CD40', 'CD8', 'Pan-Cytokeratin', 'CD68', 'HLA-A', 'CD79a', 'CD45RO', 'CD21', 'CD11c', 'HLA-E', 'IDO1', 'CD14', 'CD56', 'VISTA', 'FOXP3', 'Granzyme B', 'PCNA', 'T-bet/TBX21', 'PD-L1', 'TOX', 'PD-1', 'CD38', 'ICOS', 'CD39', 'LAG3', 'TCF-1', 'CD3e']\n"
     ]
    }
   ],
   "source": [
    "metadata = ['Image', 'Object ID', 'Classification', 'Parent', 'Centroid X µm', 'Centroid Y µm', 'UMAP1', 'UMAP2', 'PC1', 'PC2', 'Cluster_UMAP']\n",
    "markers = [col for col in df.columns if col not in metadata]\n",
    "print(markers)"
   ]
  },
  {
   "cell_type": "code",
   "execution_count": 4,
   "metadata": {},
   "outputs": [
    {
     "name": "stdout",
     "output_type": "stream",
     "text": [
      "921719\n",
      "3826900\n"
     ]
    }
   ],
   "source": [
    "print(len(df[df['Classification'] == 'Other/NA']))\n",
    "print(len(df[df['Classification'] != 'Other/NA']))"
   ]
  },
  {
   "cell_type": "markdown",
   "metadata": {},
   "source": [
    "### Hierarchical Clustering\n",
    "Based on Figure S1C of [this](https://pubmed.ncbi.nlm.nih.gov/37059105/) paper."
   ]
  },
  {
   "cell_type": "code",
   "execution_count": 5,
   "metadata": {},
   "outputs": [],
   "source": [
    "# level 1 classification\n",
    "def classify_cells(row):\n",
    "    \"\"\" Level 1 classification. \"\"\"\n",
    "    s = row['Classification']\n",
    "    if ('Pan-Cytokeratin' in s) and ('CD45' not in s):\n",
    "        return 'Epithelial'\n",
    "    elif ('CD45' in s) and ('Pan-Cytokeratin' not in s):\n",
    "        return 'Immune'\n",
    "    else:\n",
    "        if ('CD45' in s) and ('Pan-Cytokeratin' in s): # not exclusively one or the other\n",
    "            if row['Pan-Cytokeratin'] > row['CD45']:\n",
    "                return 'Epithelial'\n",
    "            else:\n",
    "                return 'Immune'\n",
    "        else: # neither\n",
    "            return 'Other'\n",
    "\n",
    "# level 2 classification\n",
    "def classify_level2(row):\n",
    "    \"\"\" Level 2 classification. \"\"\"\n",
    "    s = row['Classification']\n",
    "    lymphoid = ('CD3e' in s) or ('CD20' in s) or ('CD21' in s)\n",
    "    myeloid = ('CD68' in s) or ('CD11c' in s) or ('CD107a' in s) or ('CD56' in s) or ('Granzyme B' in s)\n",
    "    if row['Level 1'] == 'Immune':\n",
    "        if lymphoid and (not myeloid):\n",
    "            return 'Lymphoid'\n",
    "        elif (myeloid) and (not lymphoid):\n",
    "            return 'Myeloid'\n",
    "        elif lymphoid and myeloid: # not exclusively one or the other\n",
    "            l = max(row['CD3e'], row['CD20'], row['CD21'])\n",
    "            m = max(row['CD68'], row['CD11c'], row['CD107a'], row['CD56'], row['Granzyme B'])\n",
    "            if l > m:\n",
    "                return 'Lymphoid'\n",
    "            else:\n",
    "                return 'Myeloid'\n",
    "        else:\n",
    "            return 'Other'\n",
    "    else:\n",
    "        return 'Other'\n",
    "\n",
    "# level 3 classification\n",
    "def classify_level3(row):\n",
    "    \"\"\" Level 3 classification. \"\"\"\n",
    "    s = row['Classification']\n",
    "    cytotoxic = ('CD3e' in s) and ('CD8' in s)\n",
    "    helper = ('CD3e' in s) and ('CD4' in s)\n",
    "    macrophage = 'CD68' in s\n",
    "    dendritic = 'CD11c' in s\n",
    "    nk = ('CD107a' in s) and ('CD56' in s) and ('Granzyme B' in s)\n",
    "    if row['Level 2'] == 'Lymphoid':\n",
    "        if cytotoxic and (not helper):\n",
    "            return 'Cyt T'\n",
    "        elif helper and (not cytotoxic):\n",
    "            return 'Helper T'\n",
    "        elif helper and cytotoxic: # not exclusively one or the other\n",
    "            if row['CD8'] > row['CD4']:\n",
    "                return 'Cyt T'\n",
    "            else:\n",
    "                return 'Helper T'\n",
    "        else: \n",
    "            return 'Other'\n",
    "    elif row['Level 2'] == 'Myeloid':\n",
    "        m = row['CD68']\n",
    "        d = row['CD11c']\n",
    "        n = max(row['CD107a'], row['CD56'], row['Granzyme B'])\n",
    "        if macrophage and not (dendritic or nk):\n",
    "            return 'Macrophage'\n",
    "        elif dendritic and not (macrophage or nk):\n",
    "            return 'Dendritic'\n",
    "        elif nk and not (macrophage or dendritic):\n",
    "            return 'NK Cell'\n",
    "        elif macrophage and dendritic:\n",
    "            if m > d:\n",
    "                return 'Macrophage'\n",
    "            else:\n",
    "                return 'Dendritic'\n",
    "        elif dendritic and nk:\n",
    "            if d > n:\n",
    "                return 'Dendritic'\n",
    "            else:\n",
    "                return 'NK Cell'\n",
    "        elif macrophage and nk:\n",
    "            if m > n:\n",
    "                return 'Macrophage'\n",
    "            else:\n",
    "                return 'NK Cell'\n",
    "        else: # none \n",
    "            return 'Other'\n",
    "    else:\n",
    "        return 'Other'\n",
    "    \n",
    "# level 4 classification\n",
    "def classify_level4(row):\n",
    "    \"\"\" Level 4 classification. \"\"\"\n",
    "    s = row['Classification']\n",
    "    pre = 'TCF-1' in s\n",
    "    tc = 'PD-1' in s\n",
    "    ex_tc = ('TOX' in s) and ('CD39' in s)\n",
    "    e = max(row['TOX'], row['CD39'])\n",
    "    treg = 'FOXP3' in s\n",
    "    if row['Level 3'] == 'Cyt T':\n",
    "        if pre and not (tc or ex_tc):\n",
    "            return 'Cyt T Precursor'\n",
    "        elif tc and not (pre or ex_tc):\n",
    "            return 'Tc'\n",
    "        elif ex_tc and not (pre or tc):\n",
    "            return 'Exhausted Tc'\n",
    "        elif pre and tc:\n",
    "            if row['TCF-1'] > row['PD-1']:\n",
    "                return 'Cyt T Precursor'\n",
    "            else:\n",
    "                return 'Tc'\n",
    "        elif pre and ex_tc:\n",
    "            if row['TCF-1'] > e:\n",
    "                return 'Cyt T Precursor'\n",
    "            else:\n",
    "                return 'Exhausted Tc'\n",
    "        elif tc and ex_tc:\n",
    "            if row['PD-1'] > e:\n",
    "                return 'Tc'\n",
    "            else:\n",
    "                return 'Exhausted Tc'\n",
    "        else:\n",
    "            return 'Other'\n",
    "    elif row['Level 3'] == 'Helper T':\n",
    "        if pre and not treg:\n",
    "            return 'Helper T Precursor'\n",
    "        elif treg and not pre:\n",
    "            return 'T reg'\n",
    "        elif pre and treg:\n",
    "            if row['TCF-1'] > row['FOXP3']:\n",
    "                return 'Helper T Precursor'\n",
    "            else:\n",
    "                return 'T reg'\n",
    "        else:\n",
    "            return 'Other'\n",
    "    else:\n",
    "        return 'Other'"
   ]
  },
  {
   "cell_type": "code",
   "execution_count": 6,
   "metadata": {},
   "outputs": [],
   "source": [
    "df['Level 1'] = df.apply(classify_cells, axis=1)\n",
    "df['Level 2'] = df.apply(classify_level2, axis=1)\n",
    "df['Level 3'] = df.apply(classify_level3, axis=1)\n",
    "df['Level 4'] = df.apply(classify_level4, axis=1)"
   ]
  },
  {
   "cell_type": "code",
   "execution_count": 7,
   "metadata": {},
   "outputs": [
    {
     "name": "stdout",
     "output_type": "stream",
     "text": [
      "['Image', 'Object ID', 'Classification', 'Parent', 'Centroid X µm', 'Centroid Y µm', 'UMAP1', 'UMAP2', 'PC1', 'PC2', 'Cluster_UMAP', 'Level 1', 'Level 2', 'Level 3', 'Level 4']\n"
     ]
    }
   ],
   "source": [
    "metadata.extend(['Level 1', 'Level 2', 'Level 3', 'Level 4'])\n",
    "print(metadata)"
   ]
  },
  {
   "cell_type": "markdown",
   "metadata": {},
   "source": [
    "Level 1 clustermap on a random subset"
   ]
  },
  {
   "cell_type": "code",
   "execution_count": 31,
   "metadata": {},
   "outputs": [
    {
     "name": "stdout",
     "output_type": "stream",
     "text": [
      "Other 0.5528457852693593\n",
      "Immune 0.445418552214865\n",
      "Epithelial 0.0017356625157756392\n"
     ]
    }
   ],
   "source": [
    "# get the proportion of each group in level 1\n",
    "for p in df['Level 1'].unique():\n",
    "    prop = len(df[df['Level 1'] == p]) / len(df.index)\n",
    "    print(p, prop)\n",
    "    "
   ]
  },
  {
   "cell_type": "code",
   "execution_count": 15,
   "metadata": {},
   "outputs": [],
   "source": [
    "# reduce size by getting mean within lymph nodes within level\n",
    "df_mean = df[markers + ['Parent', 'Level 1']].groupby(['Parent']).mean(numeric_only=True).reset_index()"
   ]
  },
  {
   "cell_type": "code",
   "execution_count": 16,
   "metadata": {},
   "outputs": [
    {
     "data": {
      "text/html": [
       "<div>\n",
       "<style scoped>\n",
       "    .dataframe tbody tr th:only-of-type {\n",
       "        vertical-align: middle;\n",
       "    }\n",
       "\n",
       "    .dataframe tbody tr th {\n",
       "        vertical-align: top;\n",
       "    }\n",
       "\n",
       "    .dataframe thead th {\n",
       "        text-align: right;\n",
       "    }\n",
       "</style>\n",
       "<table border=\"1\" class=\"dataframe\">\n",
       "  <thead>\n",
       "    <tr style=\"text-align: right;\">\n",
       "      <th></th>\n",
       "      <th>Parent</th>\n",
       "      <th>DAPI</th>\n",
       "      <th>CD44</th>\n",
       "      <th>HLA-DR</th>\n",
       "      <th>CD4</th>\n",
       "      <th>IFNG</th>\n",
       "      <th>Ki67</th>\n",
       "      <th>CD107a</th>\n",
       "      <th>CD45</th>\n",
       "      <th>CD20</th>\n",
       "      <th>...</th>\n",
       "      <th>T-bet/TBX21</th>\n",
       "      <th>PD-L1</th>\n",
       "      <th>TOX</th>\n",
       "      <th>PD-1</th>\n",
       "      <th>CD38</th>\n",
       "      <th>ICOS</th>\n",
       "      <th>CD39</th>\n",
       "      <th>LAG3</th>\n",
       "      <th>TCF-1</th>\n",
       "      <th>CD3e</th>\n",
       "    </tr>\n",
       "  </thead>\n",
       "  <tbody>\n",
       "    <tr>\n",
       "      <th>0</th>\n",
       "      <td>Slide 10 C1</td>\n",
       "      <td>0.112654</td>\n",
       "      <td>0.326746</td>\n",
       "      <td>-0.001500</td>\n",
       "      <td>0.133345</td>\n",
       "      <td>-0.037869</td>\n",
       "      <td>-0.075604</td>\n",
       "      <td>0.139179</td>\n",
       "      <td>0.269642</td>\n",
       "      <td>0.279431</td>\n",
       "      <td>...</td>\n",
       "      <td>-0.441919</td>\n",
       "      <td>0.147788</td>\n",
       "      <td>0.288457</td>\n",
       "      <td>-0.090116</td>\n",
       "      <td>0.004528</td>\n",
       "      <td>0.090225</td>\n",
       "      <td>0.113140</td>\n",
       "      <td>0.026987</td>\n",
       "      <td>0.316915</td>\n",
       "      <td>0.255321</td>\n",
       "    </tr>\n",
       "    <tr>\n",
       "      <th>1</th>\n",
       "      <td>Slide 10 C1-1</td>\n",
       "      <td>-0.171726</td>\n",
       "      <td>-0.088561</td>\n",
       "      <td>-0.106038</td>\n",
       "      <td>-0.307162</td>\n",
       "      <td>0.008308</td>\n",
       "      <td>-0.001743</td>\n",
       "      <td>-0.068358</td>\n",
       "      <td>-0.213336</td>\n",
       "      <td>-0.171941</td>\n",
       "      <td>...</td>\n",
       "      <td>0.546104</td>\n",
       "      <td>-0.133572</td>\n",
       "      <td>-0.135294</td>\n",
       "      <td>-0.293831</td>\n",
       "      <td>0.111660</td>\n",
       "      <td>-0.282644</td>\n",
       "      <td>-0.027898</td>\n",
       "      <td>-0.290920</td>\n",
       "      <td>-0.218998</td>\n",
       "      <td>-0.294587</td>\n",
       "    </tr>\n",
       "    <tr>\n",
       "      <th>2</th>\n",
       "      <td>Slide 10 D1</td>\n",
       "      <td>0.075491</td>\n",
       "      <td>-0.195875</td>\n",
       "      <td>0.108724</td>\n",
       "      <td>0.194600</td>\n",
       "      <td>0.024682</td>\n",
       "      <td>0.067845</td>\n",
       "      <td>-0.052401</td>\n",
       "      <td>-0.019571</td>\n",
       "      <td>-0.070059</td>\n",
       "      <td>...</td>\n",
       "      <td>-0.166938</td>\n",
       "      <td>0.006134</td>\n",
       "      <td>-0.115071</td>\n",
       "      <td>0.376407</td>\n",
       "      <td>-0.117066</td>\n",
       "      <td>0.207451</td>\n",
       "      <td>-0.070627</td>\n",
       "      <td>0.271107</td>\n",
       "      <td>-0.055154</td>\n",
       "      <td>0.075250</td>\n",
       "    </tr>\n",
       "    <tr>\n",
       "      <th>3</th>\n",
       "      <td>Slide 11 A1</td>\n",
       "      <td>0.219822</td>\n",
       "      <td>-0.087645</td>\n",
       "      <td>-0.005068</td>\n",
       "      <td>0.202881</td>\n",
       "      <td>-0.031256</td>\n",
       "      <td>0.285999</td>\n",
       "      <td>-0.139885</td>\n",
       "      <td>-0.091552</td>\n",
       "      <td>0.076618</td>\n",
       "      <td>...</td>\n",
       "      <td>-0.231152</td>\n",
       "      <td>0.246357</td>\n",
       "      <td>0.215293</td>\n",
       "      <td>0.313688</td>\n",
       "      <td>-0.101141</td>\n",
       "      <td>0.378709</td>\n",
       "      <td>0.105011</td>\n",
       "      <td>-0.607268</td>\n",
       "      <td>0.230345</td>\n",
       "      <td>0.271279</td>\n",
       "    </tr>\n",
       "    <tr>\n",
       "      <th>4</th>\n",
       "      <td>Slide 11 A1-1</td>\n",
       "      <td>0.038314</td>\n",
       "      <td>-0.011515</td>\n",
       "      <td>0.161775</td>\n",
       "      <td>0.042760</td>\n",
       "      <td>0.011698</td>\n",
       "      <td>0.137557</td>\n",
       "      <td>0.238939</td>\n",
       "      <td>0.014951</td>\n",
       "      <td>0.076359</td>\n",
       "      <td>...</td>\n",
       "      <td>0.252214</td>\n",
       "      <td>-0.124502</td>\n",
       "      <td>-0.005044</td>\n",
       "      <td>-0.026457</td>\n",
       "      <td>0.252023</td>\n",
       "      <td>-0.052302</td>\n",
       "      <td>-0.006979</td>\n",
       "      <td>0.260339</td>\n",
       "      <td>0.035833</td>\n",
       "      <td>-0.039328</td>\n",
       "    </tr>\n",
       "  </tbody>\n",
       "</table>\n",
       "<p>5 rows × 37 columns</p>\n",
       "</div>"
      ],
      "text/plain": [
       "          Parent      DAPI      CD44    HLA-DR       CD4      IFNG      Ki67  \\\n",
       "0    Slide 10 C1  0.112654  0.326746 -0.001500  0.133345 -0.037869 -0.075604   \n",
       "1  Slide 10 C1-1 -0.171726 -0.088561 -0.106038 -0.307162  0.008308 -0.001743   \n",
       "2    Slide 10 D1  0.075491 -0.195875  0.108724  0.194600  0.024682  0.067845   \n",
       "3    Slide 11 A1  0.219822 -0.087645 -0.005068  0.202881 -0.031256  0.285999   \n",
       "4  Slide 11 A1-1  0.038314 -0.011515  0.161775  0.042760  0.011698  0.137557   \n",
       "\n",
       "     CD107a      CD45      CD20  ...  T-bet/TBX21     PD-L1       TOX  \\\n",
       "0  0.139179  0.269642  0.279431  ...    -0.441919  0.147788  0.288457   \n",
       "1 -0.068358 -0.213336 -0.171941  ...     0.546104 -0.133572 -0.135294   \n",
       "2 -0.052401 -0.019571 -0.070059  ...    -0.166938  0.006134 -0.115071   \n",
       "3 -0.139885 -0.091552  0.076618  ...    -0.231152  0.246357  0.215293   \n",
       "4  0.238939  0.014951  0.076359  ...     0.252214 -0.124502 -0.005044   \n",
       "\n",
       "       PD-1      CD38      ICOS      CD39      LAG3     TCF-1      CD3e  \n",
       "0 -0.090116  0.004528  0.090225  0.113140  0.026987  0.316915  0.255321  \n",
       "1 -0.293831  0.111660 -0.282644 -0.027898 -0.290920 -0.218998 -0.294587  \n",
       "2  0.376407 -0.117066  0.207451 -0.070627  0.271107 -0.055154  0.075250  \n",
       "3  0.313688 -0.101141  0.378709  0.105011 -0.607268  0.230345  0.271279  \n",
       "4 -0.026457  0.252023 -0.052302 -0.006979  0.260339  0.035833 -0.039328  \n",
       "\n",
       "[5 rows x 37 columns]"
      ]
     },
     "execution_count": 16,
     "metadata": {},
     "output_type": "execute_result"
    }
   ],
   "source": [
    "df_mean.head()"
   ]
  },
  {
   "cell_type": "code",
   "execution_count": 17,
   "metadata": {},
   "outputs": [
    {
     "data": {
      "text/plain": [
       "Index(['Parent', 'DAPI', 'CD44', 'HLA-DR', 'CD4', 'IFNG', 'Ki67', 'CD107a',\n",
       "       'CD45', 'CD20', 'CD40', 'CD8', 'Pan-Cytokeratin', 'CD68', 'HLA-A',\n",
       "       'CD79a', 'CD45RO', 'CD21', 'CD11c', 'HLA-E', 'IDO1', 'CD14', 'CD56',\n",
       "       'VISTA', 'FOXP3', 'Granzyme B', 'PCNA', 'T-bet/TBX21', 'PD-L1', 'TOX',\n",
       "       'PD-1', 'CD38', 'ICOS', 'CD39', 'LAG3', 'TCF-1', 'CD3e'],\n",
       "      dtype='object')"
      ]
     },
     "execution_count": 17,
     "metadata": {},
     "output_type": "execute_result"
    }
   ],
   "source": [
    "df_mean.columns"
   ]
  },
  {
   "cell_type": "code",
   "execution_count": 40,
   "metadata": {},
   "outputs": [
    {
     "data": {
      "text/html": [
       "<div>\n",
       "<style scoped>\n",
       "    .dataframe tbody tr th:only-of-type {\n",
       "        vertical-align: middle;\n",
       "    }\n",
       "\n",
       "    .dataframe tbody tr th {\n",
       "        vertical-align: top;\n",
       "    }\n",
       "\n",
       "    .dataframe thead th {\n",
       "        text-align: right;\n",
       "    }\n",
       "</style>\n",
       "<table border=\"1\" class=\"dataframe\">\n",
       "  <thead>\n",
       "    <tr style=\"text-align: right;\">\n",
       "      <th></th>\n",
       "      <th>Level 1</th>\n",
       "      <th>Level 2</th>\n",
       "    </tr>\n",
       "  </thead>\n",
       "  <tbody>\n",
       "    <tr>\n",
       "      <th>1551506</th>\n",
       "      <td>blue</td>\n",
       "      <td>yellow</td>\n",
       "    </tr>\n",
       "    <tr>\n",
       "      <th>738657</th>\n",
       "      <td>blue</td>\n",
       "      <td>yellow</td>\n",
       "    </tr>\n",
       "    <tr>\n",
       "      <th>3121637</th>\n",
       "      <td>blue</td>\n",
       "      <td>yellow</td>\n",
       "    </tr>\n",
       "    <tr>\n",
       "      <th>1280605</th>\n",
       "      <td>blue</td>\n",
       "      <td>yellow</td>\n",
       "    </tr>\n",
       "    <tr>\n",
       "      <th>1204387</th>\n",
       "      <td>blue</td>\n",
       "      <td>yellow</td>\n",
       "    </tr>\n",
       "  </tbody>\n",
       "</table>\n",
       "</div>"
      ],
      "text/plain": [
       "        Level 1 Level 2\n",
       "1551506    blue  yellow\n",
       "738657     blue  yellow\n",
       "3121637    blue  yellow\n",
       "1280605    blue  yellow\n",
       "1204387    blue  yellow"
      ]
     },
     "execution_count": 40,
     "metadata": {},
     "output_type": "execute_result"
    }
   ],
   "source": [
    "# reduce size by getting sample\n",
    "lvl1_markers = ['CD45', 'Pan-Cytokeratin', 'CD3e', 'CD20', 'CD11c']\n",
    "levels = ['Level 1', 'Level 2']\n",
    "df_ss = df.sample(frac=0.1, random_state=57)\n",
    "\n",
    "level1_colours = {\n",
    "    'Immune': 'orange',\n",
    "    'Epithelial': 'blue',\n",
    "    'Other': 'purple'\n",
    "}\n",
    "\n",
    "level2_colours = {\n",
    "    'Lymphoid': 'green',\n",
    "    'Myeloid': 'red',\n",
    "    'Other': 'yellow'\n",
    "}\n",
    "\n",
    "df_sorted = df_ss.sort_values(by=['Level 1', 'Level 2'])\n",
    "row_lv1_colours = df_sorted['Level 1'].map(level1_colours) # map each row to a colour based on level\n",
    "row_lv2_colours = df_sorted['Level 2'].map(level2_colours) # map each row to a colour based on level\n",
    "df_biomarkers = df_sorted[lvl1_markers] \n",
    "row_colours = pd.concat([row_lv1_colours, row_lv2_colours], axis=1)\n",
    "row_colours.head()"
   ]
  },
  {
   "cell_type": "code",
   "execution_count": 42,
   "metadata": {},
   "outputs": [
    {
     "data": {
      "image/png": "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",
      "text/plain": [
       "<Figure size 1000x800 with 5 Axes>"
      ]
     },
     "metadata": {},
     "output_type": "display_data"
    }
   ],
   "source": [
    "# plot\n",
    "cg = sns.clustermap(df_biomarkers, row_colors=row_colours, cmap='coolwarm', figsize=(10, 8), vmin=0, vmax=3, row_cluster=False, col_cluster=False)\n",
    "# cg.ax_row_dendrogram.set_visible(False) #suppress row dendrogram\n",
    "# cg.ax_col_dendrogram.set_visible(False) #suppress column dendrogram\n",
    "# cg.ax_heatmap.set_yticks([]) # suppress y-ticks\n",
    "\n",
    "# legend - separate legends please\n",
    "for label in level1_colours:\n",
    "    plt.plot([], [], color=level1_colours[label], label=label)\n",
    "plt.legend(title='Level 1', bbox_to_anchor=(0, 1))\n",
    "\n",
    "for label in level2_colours:\n",
    "    plt.plot([], [], color=level2_colours[label], label=label)\n",
    "plt.legend(title='Level 2', bbox_to_anchor=(0, 0.5))\n",
    "\n",
    "plt.show()"
   ]
  },
  {
   "cell_type": "code",
   "execution_count": 43,
   "metadata": {},
   "outputs": [],
   "source": [
    "from scipy.stats import chi2_contingency\n",
    "from scipy.stats import ttest_ind"
   ]
  },
  {
   "cell_type": "code",
   "execution_count": 45,
   "metadata": {},
   "outputs": [],
   "source": [
    "def determine_phenotype(row):\n",
    "  \"\"\" Assign the most granular phenotype possible. \"\"\"\n",
    "  if row['Level 4'] != 'Other':\n",
    "    return row['Level 4']\n",
    "  elif row['Level 3'] != 'Other':\n",
    "    return row['Level 3']\n",
    "  elif row['Level 2'] != 'Other':\n",
    "    return row['Level 2']\n",
    "  elif row['Level 1'] != 'Other':\n",
    "    return row['Level 1']\n",
    "  return 'Other'  # default value if all levels are 'Other'"
   ]
  },
  {
   "cell_type": "code",
   "execution_count": 46,
   "metadata": {},
   "outputs": [
    {
     "name": "stdout",
     "output_type": "stream",
     "text": [
      "['Other' 'Helper T' 'Macrophage' 'Immune' 'T reg' 'Myeloid'\n",
      " 'Cyt T Precursor' 'Cyt T' 'Lymphoid' 'Helper T Precursor' 'Dendritic'\n",
      " 'Tc' 'NK Cell' 'Epithelial' 'Exhausted Tc']\n"
     ]
    }
   ],
   "source": [
    "df['Phenotype'] = df.apply(determine_phenotype, axis=1)\n",
    "print(df['Phenotype'].unique())"
   ]
  },
  {
   "cell_type": "code",
   "execution_count": 47,
   "metadata": {},
   "outputs": [],
   "source": [
    "from google.cloud import storage\n",
    "import io"
   ]
  },
  {
   "cell_type": "code",
   "execution_count": null,
   "metadata": {},
   "outputs": [],
   "source": [
    "chunk_size = 100000  # Adjust based on your requirements\n",
    "\n",
    "# Path to the output file\n",
    "sp = os.path.join('..', 'outputs', 'df_phen_levels.csv')\n",
    "\n",
    "# Save DataFrame in chunks\n",
    "for i, start in enumerate(range(0, len(df), chunk_size)):\n",
    "    chunk = df.iloc[start:start + chunk_size]\n",
    "    chunk.to_csv(sp, mode='a', header=i==0, index=False)  # Append mode"
   ]
  }
 ],
 "metadata": {
  "kernelspec": {
   "display_name": ".venv",
   "language": "python",
   "name"