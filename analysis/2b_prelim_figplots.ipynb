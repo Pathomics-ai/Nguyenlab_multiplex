{
 "cells": [
  {
   "cell_type": "code",
   "execution_count": 2,
   "metadata": {},
   "outputs": [],
   "source": [
    "from functions import map_scatter, glasbey\n",
    "import sklearn\n",
    "import matplotlib.pyplot as plt\n",
    "from anndata import AnnData\n",
    "import pandas as pd\n",
    "import numpy as np\n",
    "import seaborn as sns\n",
    "import colorcet as cc\n",
    "import scanpy as sc\n",
    "import copy\n",
    "import os"
   ]
  },
  {
   "cell_type": "code",
   "execution_count": 3,
   "metadata": {},
   "outputs": [],
   "source": [
    "# read in dimred_clstr data\n",
    "data_path = os.path.join('..', 'outputs', 'dimred_clstr.csv')\n",
    "\n",
    "if os.path.exists(data_path):\n",
    "    df = pd.read_csv(data_path)\n",
    "else:\n",
    "    print(f\"File not found: {data_path}.\\nCheck data path.\")"
   ]
  },
  {
   "cell_type": "code",
   "execution_count": 4,
   "metadata": {},
   "outputs": [
    {
     "name": "stdout",
     "output_type": "stream",
     "text": [
      "['DAPI', 'CD44', 'HLA-DR', 'CD4', 'IFNG', 'Ki67', 'CD107a', 'CD45', 'CD20', 'CD40', 'CD8', 'Pan-Cytokeratin', 'CD68', 'HLA-A', 'CD79a', 'CD45RO', 'CD21', 'CD11c', 'HLA-E', 'IDO1', 'CD14', 'CD56', 'VISTA', 'FOXP3', 'Granzyme B', 'PCNA', 'T-bet/TBX21', 'PD-L1', 'TOX', 'PD-1', 'CD38', 'ICOS', 'CD39', 'LAG3', 'TCF-1', 'CD3e']\n"
     ]
    }
   ],
   "source": [
    "metadata = ['Image', 'Object ID', 'Classification', 'Parent', 'Centroid X µm', 'Centroid Y µm', 'UMAP1', 'UMAP2', 'PC1', 'PC2', 'Cluster_UMAP']\n",
    "markers = [col for col in df.columns if col not in metadata]\n",
    "print(markers)"
   ]
  },
  {
   "cell_type": "code",
   "execution_count": 5,
   "metadata": {},
   "outputs": [
    {
     "name": "stdout",
     "output_type": "stream",
     "text": [
      "921719\n",
      "3826900\n"
     ]
    }
   ],
   "source": [
    "print(len(df[df['Classification'] == 'Other/NA']))\n",
    "print(len(df[df['Classification'] != 'Other/NA']))"
   ]
  },
  {
   "cell_type": "markdown",
   "metadata": {},
   "source": [
    "### Hierarchical Clustering\n",
    "Based on Figure S1C of [this](https://pubmed.ncbi.nlm.nih.gov/37059105/) paper.\n",
    "\n",
    "Markers:\n",
    "['DAPI', 'CD44', 'HLA-DR', 'CD4', 'IFNG', 'Ki67', 'CD107a', 'CD45', 'CD20', 'CD40', 'CD8', 'Pan-Cytokeratin', 'CD68', 'HLA-A', 'CD79a', 'CD45RO', 'CD21', 'CD11c', 'HLA-E', 'IDO1', 'CD14', 'CD56', 'VISTA', 'FOXP3', 'Granzyme B', 'PCNA', 'T-bet/TBX21', 'PD-L1', 'TOX', 'PD-1', 'CD38', 'ICOS', 'CD39', 'LAG3', 'TCF-1', 'CD3e']\n",
    "\n",
    "Elimination:\n",
    "['DAPI', 'HLA-DR', 'IFNG', 'Ki67', 'CD107a', 'CD40',  'HLA-A', 'CD79a', 'CD21', 'HLA-E', 'IDO1', 'CD56', 'VISTA', 'FOXP3', 'Granzyme B', 'PCNA', 'T-bet/TBX21', 'PD-L1', 'TOX', 'PD-1', 'CD38', 'ICOS', 'CD39', 'LAG3', 'TCF-1']\n",
    "\n",
    "Level 1:\n",
    "'Pan-Cytokeratin' - Tumor\n",
    "'CD45' - Immune\n",
    "Negative for all of the above (and) - Other\n",
    "\n",
    " Myeloid: monocytes, macrophages, neutrophils, basophils, eosinophils, erythrocytes, and megakaryocytes to platelets. Lymphoid cells: T cells, B cells, natural killer cells, and innate lymphoid cells.\n",
    "\n",
    "Level 2:\n",
    "'CD4', 'CD8', 'CD45', 'CD45RO', 'CD44', 'CD20', 'CD56', 'CD3e' - Lymphoid\n",
    "'CD11c', 'CD68', 'CD14', - Myeloid\n",
    "\n"
   ]
  },
  {
   "cell_type": "markdown",
   "metadata": {},
   "source": []
  },
  {
   "cell_type": "code",
   "execution_count": null,
   "metadata": {},
   "outputs": [],
   "source": [
    "# level 1 classification\n",
    "def classify_cells(row):\n",
    "    \"\"\" Level 1 classification. \"\"\"\n",
    "    if 'Pan-Cytokeratin' in row['Classification']:\n",
    "        return 'Endothelial'\n",
    "    if 'CD45' in row['Classification']:\n",
    "        return 'Immune'\n",
    "    return 'Other'\n",
    "\n",
    "# level 2 classification\n",
    "def classify_level2(row):\n",
    "    \"\"\" Level 2 classification. \"\"\"\n",
    "    if row['Level 1'] == 'Immune':\n",
    "        \n",
    "    return 'Other'"
   ]
  },
  {
   "cell_type": "code",
   "execution_count": null,
   "metadata": {},
   "outputs": [],
   "source": [
    "df['Level1'] = df.apply(classify_cells, axis=1)\n",
    "df['Level2'] = df.apply(classify_level2, axis=1)"
   ]
  }
 ],
 "metadata": {
  "kernelspec": {
   "display_name": ".venv",
   "language": "python",
   "name": "python3"
  },
  "language_info": {
   "codemirror_mode": {
    "name": "ipython",
    "version": 3
   },
   "file_extension": ".py",
   "mimetype": "text/x-python",
   "name": "python",
   "nbconvert_exporter": "python",
   "pygments_lexer": "ipython3",
   "version": "3.11.2"
  }
 },
 "nbformat": 4,
 "nbformat_minor": 2
}
