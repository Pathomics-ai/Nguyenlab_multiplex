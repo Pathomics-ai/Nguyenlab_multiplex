{
 "cells": [
  {
   "cell_type": "code",
   "execution_count": null,
   "metadata": {},
   "outputs": [],
   "source": [
    "import sklearn\n",
    "from sklearn.preprocessing import StandardScaler\n",
    "from sklearn.neighbors import kneighbors_graph\n",
    "from sklearn.decomposition import PCA\n",
    "\n",
    "import matplotlib.pyplot as plt\n",
    "from anndata import AnnData\n",
    "import pandas as pd\n",
    "import numpy as np\n",
    "import seaborn as sns\n",
    "import colorcet as cc\n",
    "import scanpy as sc\n",
    "import igraph as ig\n",
    "import colorcet as cc\n",
    "import leidenalg\n",
    "import umap\n",
    "import copy\n",
    "import os\n",
    "\n",
    "from functions import map_scatter, glasbey"
   ]
  },
  {
   "cell_type": "code",
   "execution_count": null,
   "metadata": {},
   "outputs": [],
   "source": [
    "# read in dimred_clstr data\n",
    "data_path = os.path.join('..', 'outputs', 'dimred_clstr.csv')\n",
    "\n",
    "if os.path.exists(data_path):\n",
    "    df = pd.read_csv(data_path)\n",
    "else:\n",
    "    print(f\"File not found: {data_path}.\\nCheck data path.\")"
   ]
  },
  {
   "cell_type": "code",
   "execution_count": null,
   "metadata": {},
   "outputs": [],
   "source": [
    "metadata = ['Image', 'Object ID', 'Classification', 'Parent', 'Centroid X µm', 'Centroid Y µm', 'UMAP1', 'UMAP2', 'PC1', 'PC2', 'Cluster_UMAP']\n",
    "markers = [col for col in df.columns if col not in metadata]\n",
    "print(markers)"
   ]
  },
  {
   "cell_type": "code",
   "execution_count": null,
   "metadata": {},
   "outputs": [],
   "source": [
    "# melt the dataframe so that all markers are in one column called 'Intensity' \n",
    "melted = df.melt(id_vars=metadata, var_name=\"Marker\", value_name=\"Intensity\")\n",
    "melted.head()"
   ]
  },
  {
   "cell_type": "code",
   "execution_count": null,
   "metadata": {},
   "outputs": [],
   "source": [
    "# plot heatmap of each marker on top of the UMAP\n",
    "f = sns.FacetGrid(melted, col=\"Marker\", col_wrap=5)\n",
    "f = f.map_dataframe(\n",
    "    map_scatter, \"UMAP1\", \"UMAP2\", \"Intensity\", s=1, cmap=\"viridis\", vmin=0\n",
    ")"
   ]
  },
  {
   "cell_type": "code",
   "execution_count": null,
   "metadata": {},
   "outputs": [],
   "source": [
    "# plot heatmap of each marker on top of the PCA\n",
    "f = sns.FacetGrid(melted, col=\"Marker\", col_wrap=5)\n",
    "f = f.map_dataframe(\n",
    "    map_scatter, \"PC1\", \"PC2\", \"Intensity\", s=1, cmap=\"viridis\", vmin=0\n",
    ")"
   ]
  },
  {
   "cell_type": "code",
   "execution_count": null,
   "metadata": {},
   "outputs": [],
   "source": [
    "# dot plot of the clusters and the markers present\n",
    "X = df[markers].values  # marker data as numpy array\n",
    "obs = df[metadata].copy()     # metadata as a dataframe\n",
    "\n",
    "# can use Cluster, Patient, etc. here\n",
    "obs['Cluster_UMAP'] = obs['Cluster_UMAP'].astype('category')\n",
    "\n",
    "adata = AnnData(X=X, obs=obs)\n",
    "\n",
    "adata.var_names = markers\n",
    "adata.var = pd.DataFrame(index=markers)\n",
    "\n",
    "# make the dotplot\n",
    "sc.pl.dotplot(adata, \n",
    "              var_names=markers,   # The list of markers to show on the x-axis\n",
    "              groupby='Cluster_UMAP',\n",
    "              title='Marker proportions in each cluster (from UMAP)'\n",
    "              ) "
   ]
  },
  {
   "cell_type": "code",
   "execution_count": null,
   "metadata": {},
   "outputs": [],
   "source": [
    "# dot plot of lymph node and the markers present\n",
    "X = df[markers].values  # marker data as numpy array\n",
    "obs = df[metadata].copy()     # metadata as a dataframe\n",
    "\n",
    "# can use Cluster, Patient, etc. here\n",
    "obs['Parent'] = obs['Parent'].astype('category')\n",
    "\n",
    "adata = AnnData(X=X, obs=obs)\n",
    "\n",
    "adata.var_names = markers\n",
    "adata.var = pd.DataFrame(index=markers)\n",
    "\n",
    "# make the dotplot\n",
    "sc.pl.dotplot(adata, \n",
    "              var_names=markers,   # The list of markers to show on the x-axis\n",
    "              groupby='Parent',\n",
    "              title='Marker proportions in each lymph node'\n",
    "              ) "
   ]
  },
  {
   "cell_type": "code",
   "execution_count": null,
   "metadata": {},
   "outputs": [],
   "source": [
    "# for each lymph node, plot cluster on top of the xy coordinates\n",
    "grouped = df.groupby('Parent')\n",
    "for name, group in grouped:\n",
    "    # plot the xy coordinates \n",
    "    f, ax = plt.subplots(figsize=(10, 10))\n",
    "\n",
    "    sns.scatterplot(\n",
    "        x=\"Centroid X µm\", \n",
    "        y=\"Centroid Y µm\",\n",
    "        hue=\"Cluster\",\n",
    "        legend=\"full\",\n",
    "        palette=\"rainbow\",\n",
    "        data=group,\n",
    "        ax=ax,\n",
    "        s=10\n",
    "    ).set(title=f'Lymph node {name} xy plot')\n",
    "\n",
    "    sns.despine()\n",
    "    ax.legend(bbox_to_anchor=(1.05, 1), loc=2, markerscale=1, borderaxespad=0.)\n",
    "    plt.show()"
   ]
  },
  {
   "cell_type": "code",
   "execution_count": null,
   "metadata": {},
   "outputs": [],
   "source": [
    "# for each lymph node, plot classification on top of the xy coordinates\n",
    "grouped = df.groupby('Parent')\n",
    "for name, group in grouped:\n",
    "    # plot the xy coordinates \n",
    "    f, ax = plt.subplots(figsize=(10, 10))\n",
    "\n",
    "    sns.scatterplot(\n",
    "        x=\"Centroid X µm\", \n",
    "        y=\"Centroid Y µm\",\n",
    "        hue=\"Classification\",\n",
    "        legend=\"full\",\n",
    "        palette=\"rainbow\",\n",
    "        data=group,\n",
    "        ax=ax,\n",
    "        s=10\n",
    "    ).set(title=f'Lymph node {name} xy plot')\n",
    "\n",
    "    sns.despine()\n",
    "    ax.legend(bbox_to_anchor=(1.05, 1), loc=2, markerscale=1, borderaxespad=0.)\n",
    "    plt.show()"
   ]
  },
  {
   "cell_type": "code",
   "execution_count": null,
   "metadata": {},
   "outputs": [],
   "source": [
    "# heatmap of markers and lymph nodes, can see diff between pre and post\n",
    "# melt data\n",
    "df_long = pd.melt(df, id_vars=['Parent'], value_vars=markers, var_name='Marker', value_name='Intensity')\n",
    "\n",
    "plt.figure(figsize=(10, 8))\n",
    "sns.heatmap(df_long.pivot_table(index='Parent', columns='Marker', values='Intensity', aggfunc='mean'), cmap='coolwarm')\n",
    "plt.xlabel('Markers')\n",
    "plt.ylabel('Lymph Node')\n",
    "plt.title('Heatmap of Marker Intensities Grouped by Lymph Node')\n",
    "plt.show()"
   ]
  }
 ],
 "metadata": {
  "kernelspec": {
   "display_name": "Python 3",
   "language": "python",
   "name": "python3"
  },
  "language_info": {
   "codemirror_mode": {
    "name": "ipython",
    "version": 3
   },
   "file_extension": ".py",
   "mimetype": "text/x-python",
   "name": "python",
   "nbconvert_exporter": "python",
   "pygments_lexer": "ipython3",
   "version": "3.12.3"
  }
 },
 "nbformat": 4,
 "nbformat_minor": 2
}
