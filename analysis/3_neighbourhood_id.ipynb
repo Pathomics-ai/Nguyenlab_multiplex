{
 "cells": [
  {
   "cell_type": "markdown",
   "metadata": {},
   "source": [
    "## Neighbourhood Identification\n",
    "Code source: https://github.com/nolanlab/NeighborhoodCoordination/blob/master/Neighborhoods/Neighborhood%20Identification.ipynb\n",
    "\n",
    "Identify cellular neighbourhoods in the archived/all_data.csv"
   ]
  },
  {
   "cell_type": "code",
   "execution_count": null,
   "metadata": {},
   "outputs": [],
   "source": [
    "import pandas as pd\n",
    "import numpy as np\n",
    "from sklearn.neighbors import NearestNeighbors\n",
    "import time\n",
    "import sys\n",
    "import matplotlib.pyplot as plt\n",
    "from sklearn.cluster import MiniBatchKMeans\n",
    "import seaborn as sns\n",
    "import os"
   ]
  },
  {
   "cell_type": "code",
   "execution_count": null,
   "metadata": {},
   "outputs": [],
   "source": [
    "def get_windows(job,n_neighbors):\n",
    "    \"\"\"\n",
    "    For each region and each individual cell in dataset, return the indices of the nearest neighbors.\n",
    "    \n",
    "    'job:  meta data containing the start time,index of region, region name, indices of region in original dataframe\n",
    "    n_neighbors:  the number of neighbors to find for each cell\n",
    "    \"\"\"\n",
    "    start_time,idx,tissue_name,indices = job\n",
    "    job_start = time.time()\n",
    "    \n",
    "    print (\"Starting:\", str(idx+1)+'/'+str(len(exps)),': ' + exps[idx])\n",
    "\n",
    "    tissue = tissue_group.get_group(tissue_name)\n",
    "    to_fit = tissue.loc[indices][[X,Y]].values\n",
    "\n",
    "#     fit = NearestNeighbors(n_neighbors=n_neighbors+1).fit(tissue[[X,Y]].values)\n",
    "    fit = NearestNeighbors(n_neighbors=n_neighbors).fit(tissue[[X,Y]].values)\n",
    "    m = fit.kneighbors(to_fit)\n",
    "#     m = m[0][:,1:], m[1][:,1:]\n",
    "    m = m[0], m[1]\n",
    "    \n",
    "\n",
    "    #sort_neighbors\n",
    "    args = m[0].argsort(axis = 1)\n",
    "    add = np.arange(m[1].shape[0])*m[1].shape[1]\n",
    "    sorted_indices = m[1].flatten()[args+add[:,None]]\n",
    "\n",
    "    neighbors = tissue.index.values[sorted_indices]\n",
    "   \n",
    "    end_time = time.time()\n",
    "   \n",
    "    print (\"Finishing:\", str(idx+1)+\"/\"+str(len(exps)),\": \"+ exps[idx],end_time-job_start,end_time-start_time)\n",
    "    return neighbors.astype(np.int32)"
   ]
  },
  {
   "cell_type": "markdown",
   "metadata": {},
   "source": [
    "### Fill In:\n",
    "- ks = individual window sizes to collect.  \n",
    "    -This accelerates the process of trying different window sizes by collecting them all in one step.\n",
    "- path_to_data:  file path for csv file with x,y cluster information\n",
    "- X:  column to use for X location\n",
    "- Y:  column to use for Y location\n",
    "- reg:  column to use for region (should be different for every tissue)\n",
    "- file_type('csv','pickle'):  file type\n",
    "- cluster_col : column name of cell type cluster to be used for neighborhoods\n",
    "- keep_cols:  columns to transfer from original dataframe to dataframe with windows and neighborhoods"
   ]
  },
  {
   "cell_type": "code",
   "execution_count": null,
   "metadata": {},
   "outputs": [],
   "source": [
    "ks = [5,10,20] # k=5 means it collects 5 nearest neighbors for each center cell\n",
    "path_to_data = os.path.join('..', 'outputs', 'dr_clstr.csv')\n",
    "X = 'Centroid X µm'\n",
    "Y = 'Centroid Y µm'\n",
    "reg = 'Parent'\n",
    "file_type = 'csv'\n",
    "\n",
    "cluster_col = 'Cluster'\n",
    "keep_cols = [X,Y,reg,cluster_col, 'Image', 'Object ID', 'Timepoint', 'Phenotype']\n",
    "save_path = os.path.join('..', 'outputs', 'neighbourhood_id.csv')"
   ]
  },
  {
   "cell_type": "code",
   "execution_count": null,
   "metadata": {},
   "outputs": [],
   "source": [
    "#read in data and do some quick data rearrangement\n",
    "n_neighbors = max(ks)\n",
    "assert (file_type=='csv' or file_type =='pickle') #\n",
    "\n",
    "\n",
    "if file_type == 'pickle':\n",
    "    cells = pd.read_pickle(path_to_data)\n",
    "if file_type == 'csv':\n",
    "    cells = pd.read_csv(path_to_data)\n",
    "\n",
    "cells = pd.concat([cells,pd.get_dummies(cells[cluster_col])],axis=1)\n",
    "\n",
    "\n",
    "#cells = cells.reset_index() #Uncomment this line if you do any subsetting of dataframe such as removing dirt etc or will throw error at end of next next code block (cell 6)\n",
    "\n",
    "sum_cols = cells[cluster_col].unique()\n",
    "values = cells[sum_cols].values"
   ]
  },
  {
   "cell_type": "code",
   "execution_count": null,
   "metadata": {},
   "outputs": [],
   "source": [
    "#find windows for each cell in each tissue region\n",
    "tissue_group = cells[[X,Y,reg]].groupby(reg)\n",
    "exps = list(cells[reg].unique())\n",
    "tissue_chunks = [(time.time(),exps.index(t),t,a) for t,indices in tissue_group.groups.items() for a in np.array_split(indices,1)] \n",
    "tissues = [get_windows(job,n_neighbors) for job in tissue_chunks]"
   ]
  },
  {
   "cell_type": "code",
   "execution_count": null,
   "metadata": {},
   "outputs": [],
   "source": [
    "#for each cell and its nearest neighbors, reshape and count the number of each cell type in those neighbors.\n",
    "out_dict = {}\n",
    "for k in ks:\n",
    "    for neighbors,job in zip(tissues,tissue_chunks):\n",
    "\n",
    "        chunk = np.arange(len(neighbors))#indices\n",
    "        tissue_name = job[2]\n",
    "        indices = job[3]\n",
    "        window = values[neighbors[chunk,:k].flatten()].reshape(len(chunk),k,len(sum_cols)).sum(axis = 1)\n",
    "        out_dict[(tissue_name,k)] = (window.astype(np.float16),indices)\n",
    "\n",
    "#concatenate the summed windows and combine into one dataframe for each window size tested.\n",
    "windows = {}\n",
    "for k in ks:\n",
    "   \n",
    "    window = pd.concat([pd.DataFrame(out_dict[(exp,k)][0],index = out_dict[(exp,k)][1].astype(int),columns = sum_cols) for exp in exps],axis=0)\n",
    "    window = window.loc[cells.index.values]\n",
    "    window = pd.concat([cells[keep_cols],window],axis=1)\n",
    "    windows[k] = window"
   ]
  },
  {
   "cell_type": "markdown",
   "metadata": {},
   "source": [
    "### Fill In:\n",
    "- k:  window_size (needs to be in ks (saved above))\n",
    "- n_neighborhoods:  number of neighborhoods to find"
   ]
  },
  {
   "cell_type": "code",
   "execution_count": null,
   "metadata": {},
   "outputs": [],
   "source": [
    "k = 10\n",
    "n_neighborhoods = 10\n",
    "neighborhood_name = \"neighborhood\"+str(k)\n",
    "k_centroids = {}"
   ]
  },
  {
   "cell_type": "code",
   "execution_count": null,
   "metadata": {},
   "outputs": [],
   "source": [
    "windows2 = windows[10]\n",
    "# windows2[cluster_col] = cells[cluster_col]\n",
    "\n",
    "km = MiniBatchKMeans(n_clusters = n_neighborhoods,random_state=0)\n",
    "\n",
    "labelskm = km.fit_predict(windows2[sum_cols].values)\n",
    "k_centroids[k] = km.cluster_centers_\n",
    "cells['neighborhood10'] = labelskm\n",
    "cells[neighborhood_name] = cells[neighborhood_name].astype('category')\n",
    "#['reg064_A','reg066_A','reg018_B','reg023_A']"
   ]
  },
  {
   "cell_type": "code",
   "execution_count": null,
   "metadata": {},
   "outputs": [],
   "source": [
    "# cell_order = ['tumor cells', 'CD11c+ DCs', 'tumor cells / immune cells',\n",
    "#        'smooth muscle', 'lymphatics', 'adipocytes', 'undefined',\n",
    "#        'CD4+ T cells CD45RO+', 'CD8+ T cells', 'CD68+CD163+ macrophages',\n",
    "#        'plasma cells', 'Tregs', 'immune cells / vasculature', 'stroma',\n",
    "#        'CD68+ macrophages GzmB+', 'vasculature', 'nerves',\n",
    "#        'CD11b+CD68+ macrophages', 'granulocytes', 'CD68+ macrophages',\n",
    "#        'NK cells', 'CD11b+ monocytes', 'immune cells',\n",
    "#        'CD4+ T cells GATA3+', 'CD163+ macrophages', 'CD3+ T cells',\n",
    "#        'CD4+ T cells', 'B cells']"
   ]
  },
  {
   "cell_type": "code",
   "execution_count": null,
   "metadata": {},
   "outputs": [],
   "source": [
    "# this plot shows the types of cells (ClusterIDs) in the different niches (0-7)\n",
    "k_to_plot = 10\n",
    "niche_clusters = (k_centroids[k_to_plot])\n",
    "tissue_avgs = values.mean(axis = 0)\n",
    "fc = np.log2(((niche_clusters+tissue_avgs)/(niche_clusters+tissue_avgs).sum(axis = 1, keepdims = True))/tissue_avgs)\n",
    "fc = pd.DataFrame(fc,columns = sum_cols)\n",
    "\n",
    "s=sns.clustermap(fc.loc[[0,2,3,4,5,6,7,8,9]], vmin =-3,vmax = 3,cmap = 'bwr',row_cluster = False)\n",
    "# adding titles\n",
    "s.figure.suptitle('Cell Clusters in Neighbourhoods', fontsize=16)\n",
    "s.ax_heatmap.set_xlabel('Cluster', fontsize=14)\n",
    "s.ax_heatmap.set_ylabel('Cellular Neighbourhood', fontsize=14)\n",
    "\n",
    "# s=sns.clustermap(fc.loc[[0,2,3,4,5,6,7,8,9],cell_order], vmin =-3,vmax = 3,cmap = 'bwr',row_cluster = False)\n",
    "# s.savefig(\"raw_figs/celltypes_perniche_10.pdf\")"
   ]
  },
  {
   "cell_type": "code",
   "execution_count": null,
   "metadata": {},
   "outputs": [],
   "source": [
    "# cells['neighborhood10'] = cells['neighborhood10'].astype('category')\n",
    "# sns.lmplot(data = cells[cells['Timepoint']=='baseline'],x = 'CENTERX',y='CENTERY',hue = 'neighborhood10',palette = 'bright',height = 8,col = reg,col_wrap = 10,fit_reg = False)"
   ]
  },
  {
   "cell_type": "code",
   "execution_count": null,
   "metadata": {},
   "outputs": [],
   "source": [
    "cells['neighborhood10'] = cells['neighborhood10'].astype('category')\n",
    "# for each sample, plot the xy coordinates\n",
    "grouped = cells.groupby('Parent')\n",
    "for name, group in grouped:\n",
    "    # plot the xy coordinates \n",
    "    if group.iloc[0]['Timepoint'] == 'baseline':\n",
    "        pointsize = 3\n",
    "        legendpoint = 5\n",
    "    else:\n",
    "        pointsize = 40\n",
    "        legendpoint = 2\n",
    "    f, ax = plt.subplots(figsize=(10, 10))\n",
    "\n",
    "    sns.scatterplot(\n",
    "        x=\"Centroid X µm\", \n",
    "        y=\"Centroid Y µm\",\n",
    "        hue=\"neighborhood10\",\n",
    "        legend=\"full\",\n",
    "        palette=\"rainbow\",\n",
    "        data=group,\n",
    "        ax=ax,\n",
    "        s=pointsize\n",
    "    ).set(title=f'Sample {name}')\n",
    "\n",
    "    sns.despine()\n",
    "    ax.legend(title='Cellular Neighbourhood', bbox_to_anchor=(1.05, 1), loc=2, markerscale=legendpoint, borderaxespad=0.)\n",
    "    plt.show()"
   ]
  },
  {
   "cell_type": "code",
   "execution_count": null,
   "metadata": {},
   "outputs": [],
   "source": [
    "markers = ['DAPI', 'CD44', 'HLA-DR', 'CD4', 'IFNG', 'Ki67', 'CD107a', 'CD45', 'CD20', 'CD40', 'CD8', 'Pan-Cytokeratin', 'CD68', 'HLA-A', 'CD79a', 'CD45RO', 'CD21', 'CD11c', 'HLA-E', 'IDO1', 'CD14', 'CD56', 'VISTA', 'FOXP3', 'Granzyme B', 'PCNA', 'T-bet/TBX21', 'PD-L1', 'TOX', 'PD-1', 'CD38', 'ICOS', 'CD39', 'LAG3', 'TCF-1', 'CD3e']\n",
    "metadata = keep_cols + 'neighboorhood10'"
   ]
  },
  {
   "cell_type": "code",
   "execution_count": null,
   "metadata": {},
   "outputs": [],
   "source": [
    "cells.head()"
   ]
  },
  {
   "cell_type": "code",
   "execution_count": null,
   "metadata": {},
   "outputs": [],
   "source": [
    "heatmap_data = cells.groupby('neighborhood10')[markers].mean().reset_index()\n",
    "heatmap_data = heatmap_data.set_index('neighborhood10')\n",
    "\n",
    "plt.figure(figsize=(10, 8))\n",
    "sns.heatmap(heatmap_data, cmap='YlGnBu', fmt=\".2f\")\n",
    "plt.xlabel('Biomarkers')\n",
    "plt.ylabel('Cellular Neighborhood')\n",
    "plt.title('Heatmap of Biomarkers by Neighborhood')"
   ]
  },
  {
   "cell_type": "code",
   "execution_count": null,
   "metadata": {},
   "outputs": [],
   "source": [
    "# figure out aggfunc for this one, but basically a heatmap of timepoint by neighbourhood\n",
    "heatmap_data = cells.pivot_table(index='neighborhood10', columns='Timepoint', aggfunc='size', fill_value=0)\n",
    "\n",
    "# Plot the heatmap\n",
    "plt.figure(figsize=(10, 8))\n",
    "sns.heatmap(heatmap_data, cmap='YlGnBu', annot=True, fmt=\"d\")  # 'fmt=\"d\"' for integer formatting\n",
    "plt.xlabel('Timepoint')\n",
    "plt.ylabel('Cellular Neighborhood')\n",
    "plt.title('Heatmap of Timepoint by Neighborhood')\n",
    "plt.show()"
   ]
  },
  {
   "cell_type": "code",
   "execution_count": null,
   "metadata": {},
   "outputs": [],
   "source": [
    "save_path = os.path.join('..', 'outputs', 'cells2.csv')\n",
    "cells.to_csv(save_path, index=False)"
   ]
  }
 ],
 "metadata": {
  "kernelspec": {
   "display_name": "Python 3",
   "language": "python",
   "name": "python3"
  },
  "language_info": {
   "codemirror_mode": {
    "name": "ipython",
    "version": 3
   },
   "file_extension": ".py",
   "mimetype": "text/x-python",
   "name": "python",
   "nbconvert_exporter": "python",
   "pygments_lexer": "ipython3",
   "version": "3.12.3"
  }
 },
 "nbformat": 4,
 "nbformat_minor": 2
}
