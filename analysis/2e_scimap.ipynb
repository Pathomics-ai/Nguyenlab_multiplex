{
 "cells": [
  {
   "cell_type": "markdown",
   "metadata": {},
   "source": [
    "### Scimap framework - spatial interaction analysis\n",
    "Quantify the spatial interactions between cell types by looking at co-localization outside of random chance."
   ]
  },
  {
   "cell_type": "code",
   "execution_count": 1,
   "metadata": {},
   "outputs": [
    {
     "name": "stdout",
     "output_type": "stream",
     "text": [
      "Running SCIMAP  2.1.3\n"
     ]
    }
   ],
   "source": [
    "import matplotlib.pyplot as plt\n",
    "from anndata import AnnData\n",
    "import anndata as ad\n",
    "import scimap as sm\n",
    "import pandas as pd\n",
    "import numpy as np\n",
    "import scanpy as sc\n",
    "import seaborn as sns\n",
    "import copy\n",
    "import os\n",
    "\n",
    "# read in saved anndata object\n",
    "data_path = os.path.join('..', 'outputs', 'adata.h5ad')\n",
    "\n",
    "if os.path.exists(data_path):\n",
    "    adata = ad.read_h5ad(data_path)\n",
    "else:\n",
    "    print(f\"File not found. Check path.\")\n",
    "\n",
    "metadata = ['Image', 'Object ID', 'Classification', 'Parent', 'Centroid X µm', 'Centroid Y µm', 'Leiden', 'phenotype', 'Timepoint']\n",
    "markers = ['DAPI', 'CD44', 'HLA-DR', 'CD4', 'IFNG', 'Ki67', 'CD107a', 'CD45', 'CD20', 'CD40', 'CD8', 'Pan-Cytokeratin', 'CD68', 'HLA-A', 'CD79a', 'CD45RO', 'CD21', 'CD11c', 'HLA-E', 'IDO1', 'CD14', 'CD56', 'VISTA', 'FOXP3', 'Granzyme B', 'PCNA', 'T-bet/TBX21', 'PD-L1', 'TOX', 'PD-1', 'CD38', 'ICOS', 'CD39', 'LAG3', 'TCF-1', 'CD3e']"
   ]
  },
  {
   "cell_type": "code",
   "execution_count": 2,
   "metadata": {},
   "outputs": [
    {
     "name": "stdout",
     "output_type": "stream",
     "text": [
      "AnnData object with n_obs × n_vars = 1031804 × 36\n",
      "    obs: 'Image', 'Object ID', 'Classification', 'Parent', 'Centroid X µm', 'Centroid Y µm', 'Leiden', 'phenotype', 'Timepoint'\n"
     ]
    }
   ],
   "source": [
    "# sample 50% of the indices\n",
    "sampled_indices = adata.obs.sample(frac=0.5, random_state=42).index\n",
    "adata = adata[sampled_indices].copy()\n",
    "\n",
    "# make a pre DLN adata object and a post DLN one so can plot them separately\n",
    "pre = adata.obs['Timepoint'] == 'DLN pre'\n",
    "adata_pre = adata[pre].copy()\n",
    "post = adata.obs['Timepoint'] == 'DLN post'\n",
    "adata_post = adata[post].copy()\n",
    "print(adata_pre)"
   ]
  },
  {
   "cell_type": "code",
   "execution_count": 3,
   "metadata": {},
   "outputs": [
    {
     "name": "stdout",
     "output_type": "stream",
     "text": [
      "Processing Image: ['Slide 11 B1']\n",
      "Categories (1, object): ['Slide 11 B1']\n",
      "Identifying neighbours within 100 pixels of every cell\n",
      "Mapping phenotype to neighbors\n",
      "Performing 100 permutations\n",
      "Consolidating the permutation results\n",
      "Processing Image: ['Slide 11 A1']\n",
      "Categories (1, object): ['Slide 11 A1']\n",
      "Identifying neighbours within 100 pixels of every cell\n",
      "Mapping phenotype to neighbors\n",
      "Performing 100 permutations\n",
      "Consolidating the permutation results\n",
      "Processing Image: ['Slide 9 B2']\n",
      "Categories (1, object): ['Slide 9 B2']\n",
      "Identifying neighbours within 100 pixels of every cell\n",
      "Mapping phenotype to neighbors\n",
      "Performing 100 permutations\n",
      "Consolidating the permutation results\n",
      "Processing Image: ['Slide 9 A1']\n",
      "Categories (1, object): ['Slide 9 A1']\n",
      "Identifying neighbours within 100 pixels of every cell\n",
      "Mapping phenotype to neighbors\n",
      "Performing 100 permutations\n",
      "Consolidating the permutation results\n",
      "Processing Image: ['Slide 11 A1-1']\n",
      "Categories (1, object): ['Slide 11 A1-1']\n",
      "Identifying neighbours within 100 pixels of every cell\n",
      "Mapping phenotype to neighbors\n",
      "Performing 100 permutations\n"
     ]
    },
    {
     "name": "stderr",
     "output_type": "stream",
     "text": [
      "/home/nduarte/justin-mayoclinic/.venv/lib/python3.11/site-packages/joblib/externals/loky/process_executor.py:752: UserWarning:\n",
      "\n",
      "A worker stopped while some jobs were given to the executor. This can be caused by a too short worker timeout or by a memory leak.\n",
      "\n"
     ]
    },
    {
     "ename": "KeyboardInterrupt",
     "evalue": "",
     "output_type": "error",
     "traceback": [
      "\u001b[0;31m---------------------------------------------------------------------------\u001b[0m",
      "\u001b[0;31mKeyboardInterrupt\u001b[0m                         Traceback (most recent call last)",
      "Cell \u001b[0;32mIn[3], line 2\u001b[0m\n\u001b[1;32m      1\u001b[0m \u001b[38;5;66;03m# pre interactions between cell types\u001b[39;00m\n\u001b[0;32m----> 2\u001b[0m adata_pre \u001b[38;5;241m=\u001b[39m \u001b[43msm\u001b[49m\u001b[38;5;241;43m.\u001b[39;49m\u001b[43mtl\u001b[49m\u001b[38;5;241;43m.\u001b[39;49m\u001b[43mspatial_interaction\u001b[49m\u001b[43m \u001b[49m\u001b[43m(\u001b[49m\u001b[43madata_pre\u001b[49m\u001b[43m,\u001b[49m\u001b[43m \u001b[49m\n\u001b[1;32m      3\u001b[0m \u001b[43m                                   \u001b[49m\u001b[43mx_coordinate\u001b[49m\u001b[38;5;241;43m=\u001b[39;49m\u001b[38;5;124;43m'\u001b[39;49m\u001b[38;5;124;43mCentroid X µm\u001b[39;49m\u001b[38;5;124;43m'\u001b[39;49m\u001b[43m,\u001b[49m\n\u001b[1;32m      4\u001b[0m \u001b[43m                                   \u001b[49m\u001b[43my_coordinate\u001b[49m\u001b[38;5;241;43m=\u001b[39;49m\u001b[38;5;124;43m'\u001b[39;49m\u001b[38;5;124;43mCentroid Y µm\u001b[39;49m\u001b[38;5;124;43m'\u001b[39;49m\u001b[43m,\u001b[49m\n\u001b[1;32m      5\u001b[0m \u001b[43m                                   \u001b[49m\u001b[43mmethod\u001b[49m\u001b[38;5;241;43m=\u001b[39;49m\u001b[38;5;124;43m'\u001b[39;49m\u001b[38;5;124;43mradius\u001b[39;49m\u001b[38;5;124;43m'\u001b[39;49m\u001b[43m,\u001b[49m\u001b[43m \u001b[49m\n\u001b[1;32m      6\u001b[0m \u001b[43m                                   \u001b[49m\u001b[43mimageid\u001b[49m\u001b[38;5;241;43m=\u001b[39;49m\u001b[38;5;124;43m'\u001b[39;49m\u001b[38;5;124;43mParent\u001b[39;49m\u001b[38;5;124;43m'\u001b[39;49m\u001b[43m,\u001b[49m\n\u001b[1;32m      7\u001b[0m \u001b[43m                                   \u001b[49m\u001b[43mradius\u001b[49m\u001b[38;5;241;43m=\u001b[39;49m\u001b[38;5;241;43m100\u001b[39;49m\u001b[43m,\u001b[49m\u001b[43m \u001b[49m\n\u001b[1;32m      8\u001b[0m \u001b[43m                                   \u001b[49m\u001b[43mpermutation\u001b[49m\u001b[38;5;241;43m=\u001b[39;49m\u001b[38;5;241;43m100\u001b[39;49m\u001b[43m,\u001b[49m\n\u001b[1;32m      9\u001b[0m \u001b[43m                                   \u001b[49m\u001b[43mlabel\u001b[49m\u001b[38;5;241;43m=\u001b[39;49m\u001b[38;5;124;43m'\u001b[39;49m\u001b[38;5;124;43mspatial_interaction_radius\u001b[39;49m\u001b[38;5;124;43m'\u001b[39;49m\u001b[43m)\u001b[49m\n",
      "File \u001b[0;32m~/justin-mayoclinic/.venv/lib/python3.11/site-packages/scimap/tools/spatial_interaction.py:250\u001b[0m, in \u001b[0;36mspatial_interaction\u001b[0;34m(adata, x_coordinate, y_coordinate, z_coordinate, phenotype, method, radius, knn, permutation, imageid, subset, pval_method, verbose, label)\u001b[0m\n\u001b[1;32m    246\u001b[0m \u001b[38;5;66;03m# Apply function to all images and create a master dataframe\u001b[39;00m\n\u001b[1;32m    247\u001b[0m \u001b[38;5;66;03m# Create lamda function \u001b[39;00m\n\u001b[1;32m    248\u001b[0m r_spatial_interaction_internal \u001b[38;5;241m=\u001b[39m \u001b[38;5;28;01mlambda\u001b[39;00m x: spatial_interaction_internal (adata_subset\u001b[38;5;241m=\u001b[39mx, x_coordinate\u001b[38;5;241m=\u001b[39mx_coordinate, y_coordinate\u001b[38;5;241m=\u001b[39my_coordinate, \n\u001b[1;32m    249\u001b[0m                                                                          z_coordinate\u001b[38;5;241m=\u001b[39mz_coordinate, phenotype\u001b[38;5;241m=\u001b[39mphenotype, method\u001b[38;5;241m=\u001b[39mmethod,  radius\u001b[38;5;241m=\u001b[39mradius, knn\u001b[38;5;241m=\u001b[39mknn, permutation\u001b[38;5;241m=\u001b[39mpermutation, imageid\u001b[38;5;241m=\u001b[39mimageid,subset\u001b[38;5;241m=\u001b[39msubset,pval_method\u001b[38;5;241m=\u001b[39mpval_method) \n\u001b[0;32m--> 250\u001b[0m all_data \u001b[38;5;241m=\u001b[39m \u001b[38;5;28;43mlist\u001b[39;49m\u001b[43m(\u001b[49m\u001b[38;5;28;43mmap\u001b[39;49m\u001b[43m(\u001b[49m\u001b[43mr_spatial_interaction_internal\u001b[49m\u001b[43m,\u001b[49m\u001b[43m \u001b[49m\u001b[43madata_list\u001b[49m\u001b[43m)\u001b[49m\u001b[43m)\u001b[49m \u001b[38;5;66;03m# Apply function \u001b[39;00m\n\u001b[1;32m    253\u001b[0m \u001b[38;5;66;03m# Merge all the results into a single dataframe    \u001b[39;00m\n\u001b[1;32m    254\u001b[0m df_merged \u001b[38;5;241m=\u001b[39m reduce(\u001b[38;5;28;01mlambda\u001b[39;00m  left,right: pd\u001b[38;5;241m.\u001b[39mmerge(left,right,on\u001b[38;5;241m=\u001b[39m[\u001b[38;5;124m'\u001b[39m\u001b[38;5;124mphenotype\u001b[39m\u001b[38;5;124m'\u001b[39m, \u001b[38;5;124m'\u001b[39m\u001b[38;5;124mneighbour_phenotype\u001b[39m\u001b[38;5;124m'\u001b[39m], how\u001b[38;5;241m=\u001b[39m\u001b[38;5;124m'\u001b[39m\u001b[38;5;124mouter\u001b[39m\u001b[38;5;124m'\u001b[39m), all_data)\n",
      "File \u001b[0;32m~/justin-mayoclinic/.venv/lib/python3.11/site-packages/scimap/tools/spatial_interaction.py:248\u001b[0m, in \u001b[0;36mspatial_interaction.<locals>.<lambda>\u001b[0;34m(x)\u001b[0m\n\u001b[1;32m    243\u001b[0m     adata_list \u001b[38;5;241m=\u001b[39m [adata[adata\u001b[38;5;241m.\u001b[39mobs[imageid] \u001b[38;5;241m==\u001b[39m i] \u001b[38;5;28;01mfor\u001b[39;00m i \u001b[38;5;129;01min\u001b[39;00m adata\u001b[38;5;241m.\u001b[39mobs[imageid]\u001b[38;5;241m.\u001b[39munique()]\n\u001b[1;32m    246\u001b[0m \u001b[38;5;66;03m# Apply function to all images and create a master dataframe\u001b[39;00m\n\u001b[1;32m    247\u001b[0m \u001b[38;5;66;03m# Create lamda function \u001b[39;00m\n\u001b[0;32m--> 248\u001b[0m r_spatial_interaction_internal \u001b[38;5;241m=\u001b[39m \u001b[38;5;28;01mlambda\u001b[39;00m x: \u001b[43mspatial_interaction_internal\u001b[49m\u001b[43m \u001b[49m\u001b[43m(\u001b[49m\u001b[43madata_subset\u001b[49m\u001b[38;5;241;43m=\u001b[39;49m\u001b[43mx\u001b[49m\u001b[43m,\u001b[49m\u001b[43m \u001b[49m\u001b[43mx_coordinate\u001b[49m\u001b[38;5;241;43m=\u001b[39;49m\u001b[43mx_coordinate\u001b[49m\u001b[43m,\u001b[49m\u001b[43m \u001b[49m\u001b[43my_coordinate\u001b[49m\u001b[38;5;241;43m=\u001b[39;49m\u001b[43my_coordinate\u001b[49m\u001b[43m,\u001b[49m\u001b[43m \u001b[49m\n\u001b[1;32m    249\u001b[0m \u001b[43m                                                                         \u001b[49m\u001b[43mz_coordinate\u001b[49m\u001b[38;5;241;43m=\u001b[39;49m\u001b[43mz_coordinate\u001b[49m\u001b[43m,\u001b[49m\u001b[43m \u001b[49m\u001b[43mphenotype\u001b[49m\u001b[38;5;241;43m=\u001b[39;49m\u001b[43mphenotype\u001b[49m\u001b[43m,\u001b[49m\u001b[43m \u001b[49m\u001b[43mmethod\u001b[49m\u001b[38;5;241;43m=\u001b[39;49m\u001b[43mmethod\u001b[49m\u001b[43m,\u001b[49m\u001b[43m  \u001b[49m\u001b[43mradius\u001b[49m\u001b[38;5;241;43m=\u001b[39;49m\u001b[43mradius\u001b[49m\u001b[43m,\u001b[49m\u001b[43m \u001b[49m\u001b[43mknn\u001b[49m\u001b[38;5;241;43m=\u001b[39;49m\u001b[43mknn\u001b[49m\u001b[43m,\u001b[49m\u001b[43m \u001b[49m\u001b[43mpermutation\u001b[49m\u001b[38;5;241;43m=\u001b[39;49m\u001b[43mpermutation\u001b[49m\u001b[43m,\u001b[49m\u001b[43m \u001b[49m\u001b[43mimageid\u001b[49m\u001b[38;5;241;43m=\u001b[39;49m\u001b[43mimageid\u001b[49m\u001b[43m,\u001b[49m\u001b[43msubset\u001b[49m\u001b[38;5;241;43m=\u001b[39;49m\u001b[43msubset\u001b[49m\u001b[43m,\u001b[49m\u001b[43mpval_method\u001b[49m\u001b[38;5;241;43m=\u001b[39;49m\u001b[43mpval_method\u001b[49m\u001b[43m)\u001b[49m \n\u001b[1;32m    250\u001b[0m all_data \u001b[38;5;241m=\u001b[39m \u001b[38;5;28mlist\u001b[39m(\u001b[38;5;28mmap\u001b[39m(r_spatial_interaction_internal, adata_list)) \u001b[38;5;66;03m# Apply function \u001b[39;00m\n\u001b[1;32m    253\u001b[0m \u001b[38;5;66;03m# Merge all the results into a single dataframe    \u001b[39;00m\n",
      "File \u001b[0;32m~/justin-mayoclinic/.venv/lib/python3.11/site-packages/scimap/tools/spatial_interaction.py:188\u001b[0m, in \u001b[0;36mspatial_interaction.<locals>.spatial_interaction_internal\u001b[0;34m(adata_subset, x_coordinate, y_coordinate, z_coordinate, phenotype, method, radius, knn, permutation, imageid, subset, pval_method)\u001b[0m\n\u001b[1;32m    185\u001b[0m     \u001b[38;5;28;01mreturn\u001b[39;00m data_freq\n\u001b[1;32m    187\u001b[0m \u001b[38;5;66;03m# Apply function\u001b[39;00m\n\u001b[0;32m--> 188\u001b[0m final_scores \u001b[38;5;241m=\u001b[39m \u001b[43mParallel\u001b[49m\u001b[43m(\u001b[49m\u001b[43mn_jobs\u001b[49m\u001b[38;5;241;43m=\u001b[39;49m\u001b[38;5;241;43m-\u001b[39;49m\u001b[38;5;241;43m1\u001b[39;49m\u001b[43m)\u001b[49m\u001b[43m(\u001b[49m\u001b[43mdelayed\u001b[49m\u001b[43m(\u001b[49m\u001b[43mpermutation_pval\u001b[49m\u001b[43m)\u001b[49m\u001b[43m(\u001b[49m\u001b[43mdata\u001b[49m\u001b[38;5;241;43m=\u001b[39;49m\u001b[43mn\u001b[49m\u001b[43m)\u001b[49m\u001b[43m \u001b[49m\u001b[38;5;28;43;01mfor\u001b[39;49;00m\u001b[43m \u001b[49m\u001b[43mi\u001b[49m\u001b[43m \u001b[49m\u001b[38;5;129;43;01min\u001b[39;49;00m\u001b[43m \u001b[49m\u001b[38;5;28;43mrange\u001b[39;49m\u001b[43m(\u001b[49m\u001b[43mpermutation\u001b[49m\u001b[43m)\u001b[49m\u001b[43m)\u001b[49m \n\u001b[1;32m    189\u001b[0m perm \u001b[38;5;241m=\u001b[39m pd\u001b[38;5;241m.\u001b[39mDataFrame(final_scores)\u001b[38;5;241m.\u001b[39mT\n\u001b[1;32m    191\u001b[0m \u001b[38;5;66;03m# Consolidate the permutation results\u001b[39;00m\n",
      "File \u001b[0;32m~/justin-mayoclinic/.venv/lib/python3.11/site-packages/joblib/parallel.py:2007\u001b[0m, in \u001b[0;36mParallel.__call__\u001b[0;34m(self, iterable)\u001b[0m\n\u001b[1;32m   2001\u001b[0m \u001b[38;5;66;03m# The first item from the output is blank, but it makes the interpreter\u001b[39;00m\n\u001b[1;32m   2002\u001b[0m \u001b[38;5;66;03m# progress until it enters the Try/Except block of the generator and\u001b[39;00m\n\u001b[1;32m   2003\u001b[0m \u001b[38;5;66;03m# reaches the first `yield` statement. This starts the asynchronous\u001b[39;00m\n\u001b[1;32m   2004\u001b[0m \u001b[38;5;66;03m# dispatch of the tasks to the workers.\u001b[39;00m\n\u001b[1;32m   2005\u001b[0m \u001b[38;5;28mnext\u001b[39m(output)\n\u001b[0;32m-> 2007\u001b[0m \u001b[38;5;28;01mreturn\u001b[39;00m output \u001b[38;5;28;01mif\u001b[39;00m \u001b[38;5;28mself\u001b[39m\u001b[38;5;241m.\u001b[39mreturn_generator \u001b[38;5;28;01melse\u001b[39;00m \u001b[38;5;28;43mlist\u001b[39;49m\u001b[43m(\u001b[49m\u001b[43moutput\u001b[49m\u001b[43m)\u001b[49m\n",
      "File \u001b[0;32m~/justin-mayoclinic/.venv/lib/python3.11/site-packages/joblib/parallel.py:1650\u001b[0m, in \u001b[0;36mParallel._get_outputs\u001b[0;34m(self, iterator, pre_dispatch)\u001b[0m\n\u001b[1;32m   1647\u001b[0m     \u001b[38;5;28;01myield\u001b[39;00m\n\u001b[1;32m   1649\u001b[0m     \u001b[38;5;28;01mwith\u001b[39;00m \u001b[38;5;28mself\u001b[39m\u001b[38;5;241m.\u001b[39m_backend\u001b[38;5;241m.\u001b[39mretrieval_context():\n\u001b[0;32m-> 1650\u001b[0m         \u001b[38;5;28;01myield from\u001b[39;00m \u001b[38;5;28mself\u001b[39m\u001b[38;5;241m.\u001b[39m_retrieve()\n\u001b[1;32m   1652\u001b[0m \u001b[38;5;28;01mexcept\u001b[39;00m \u001b[38;5;167;01mGeneratorExit\u001b[39;00m:\n\u001b[1;32m   1653\u001b[0m     \u001b[38;5;66;03m# The generator has been garbage collected before being fully\u001b[39;00m\n\u001b[1;32m   1654\u001b[0m     \u001b[38;5;66;03m# consumed. This aborts the remaining tasks if possible and warn\u001b[39;00m\n\u001b[1;32m   1655\u001b[0m     \u001b[38;5;66;03m# the user if necessary.\u001b[39;00m\n\u001b[1;32m   1656\u001b[0m     \u001b[38;5;28mself\u001b[39m\u001b[38;5;241m.\u001b[39m_exception \u001b[38;5;241m=\u001b[39m \u001b[38;5;28;01mTrue\u001b[39;00m\n",
      "File \u001b[0;32m~/justin-mayoclinic/.venv/lib/python3.11/site-packages/joblib/parallel.py:1762\u001b[0m, in \u001b[0;36mParallel._retrieve\u001b[0;34m(self)\u001b[0m\n\u001b[1;32m   1757\u001b[0m \u001b[38;5;66;03m# If the next job is not ready for retrieval yet, we just wait for\u001b[39;00m\n\u001b[1;32m   1758\u001b[0m \u001b[38;5;66;03m# async callbacks to progress.\u001b[39;00m\n\u001b[1;32m   1759\u001b[0m \u001b[38;5;28;01mif\u001b[39;00m ((\u001b[38;5;28mlen\u001b[39m(\u001b[38;5;28mself\u001b[39m\u001b[38;5;241m.\u001b[39m_jobs) \u001b[38;5;241m==\u001b[39m \u001b[38;5;241m0\u001b[39m) \u001b[38;5;129;01mor\u001b[39;00m\n\u001b[1;32m   1760\u001b[0m     (\u001b[38;5;28mself\u001b[39m\u001b[38;5;241m.\u001b[39m_jobs[\u001b[38;5;241m0\u001b[39m]\u001b[38;5;241m.\u001b[39mget_status(\n\u001b[1;32m   1761\u001b[0m         timeout\u001b[38;5;241m=\u001b[39m\u001b[38;5;28mself\u001b[39m\u001b[38;5;241m.\u001b[39mtimeout) \u001b[38;5;241m==\u001b[39m TASK_PENDING)):\n\u001b[0;32m-> 1762\u001b[0m     time\u001b[38;5;241m.\u001b[39msleep(\u001b[38;5;241m0.01\u001b[39m)\n\u001b[1;32m   1763\u001b[0m     \u001b[38;5;28;01mcontinue\u001b[39;00m\n\u001b[1;32m   1765\u001b[0m \u001b[38;5;66;03m# We need to be careful: the job list can be filling up as\u001b[39;00m\n\u001b[1;32m   1766\u001b[0m \u001b[38;5;66;03m# we empty it and Python list are not thread-safe by\u001b[39;00m\n\u001b[1;32m   1767\u001b[0m \u001b[38;5;66;03m# default hence the use of the lock\u001b[39;00m\n",
      "\u001b[0;31mKeyboardInterrupt\u001b[0m: "
     ]
    }
   ],
   "source": [
    "# pre interactions between cell types\n",
    "adata_pre = sm.tl.spatial_interaction (adata_pre, \n",
    "                                   x_coordinate='Centroid X µm',\n",
    "                                   y_coordinate='Centroid Y µm',\n",
    "                                   method='radius', \n",
    "                                   imageid='Parent',\n",
    "                                   radius=100, \n",
    "                                   permutation=100,\n",
    "                                   label='spatial_interaction_radius')"
   ]
  },
  {
   "cell_type": "code",
   "execution_count": null,
   "metadata": {},
   "outputs": [],
   "source": [
    "# pre interaction heatmap\n",
    "sm.pl.spatial_interaction(adata_pre, \n",
    "                          spatial_interaction='spatial_interaction_radius',\n",
    "                          p_val=0.01, cmap='plasma',\n",
    "                        #   row_cluster=True, col_cluster=True,\n",
    "                          linewidths=0.75, linecolor='black')"
   ]
  },
  {
   "cell_type": "code",
   "execution_count": null,
   "metadata": {},
   "outputs": [],
   "source": [
    "# post interactions between cell types\n",
    "adata_post = sm.tl.spatial_interaction (adata_post, \n",
    "                                   x_coordinate='Centroid X µm',\n",
    "                                   y_coordinate='Centroid Y µm',\n",
    "                                   method='radius', \n",
    "                                   imageid='Parent',\n",
    "                                   radius=100, \n",
    "                                   permutation=100,\n",
    "                                   label='spatial_interaction_radius')"
   ]
  },
  {
   "cell_type": "code",
   "execution_count": null,
   "metadata": {},
   "outputs": [],
   "source": [
    "# post interaction heatmap\n",
    "sm.pl.spatial_interaction(adata_post, \n",
    "                          spatial_interaction='spatial_interaction_radius',\n",
    "                          p_val=0.01, cmap='viridis',\n",
    "                        #   row_cluster=True, col_cluster=True,\n",
    "                          linewidths=0.75, linecolor='black')"
   ]
  },
  {
   "cell_type": "markdown",
   "metadata": {},
   "source": [
    "### Proximity volume and density\n",
    "- Proximity volume = number of interactions to total cells in dataset\n",
    "- Proximity density = number of interactions to number of cells in interacting types (interactions relative to pop size)"
   ]
  },
  {
   "cell_type": "code",
   "execution_count": null,
   "metadata": {},
   "outputs": [],
   "source": [
    "print(adata_pre.obs['Phenotype'].unique())"
   ]
  },
  {
   "cell_type": "code",
   "execution_count": null,
   "metadata": {},
   "outputs": [],
   "source": [
    "# spatial pscore\n",
    "interactions_oi = [('Ant Pres Macrophage' , 'Plasma B'), ('Inhib Monocyte', 'Th1 Helper T'), ('Act Macrophage', 'Prolif Cyt T'), ('T reg', 'Plasma B')]\n",
    "for interaction in interactions_oi:\n",
    "    adata =  sm.tl.spatial_pscore (adata,\n",
    "                                   imageid='Parent',\n",
    "                                   x_coordinate='Centroid X µm',\n",
    "                                   y_coordinate='Centroid Y µm',\n",
    "                                   proximity= [interaction[0], interaction[1]],\n",
    "                                   score_by = 'Timepoint',\n",
    "                                   phenotype='phenotype',\n",
    "                                   method='radius',\n",
    "                                   label=f'spatial_pscore_{interaction[0]}-{interaction[1]}',\n",
    "                                   radius=100)\n",
    "    sm.pl.spatial_pscore (adata, color='black', label=f'spatial_pscore_{interaction[0]}-{interaction[1]}', figsize=(12,8))"
   ]
  },
  {
   "cell_type": "code",
   "execution_count": null,
   "metadata": {},
   "outputs": [],
   "source": [
    "# voronoi plots to visualize the spatial pscore within the tissue - red is region of interaction\n",
    "d = adata.obs\n",
    "for interaction in interactions_oi:\n",
    "    for parent in d['Parent'].unique():\n",
    "        a = d[d['Parent'] == parent]\n",
    "        if (interaction[0] in a['phenotype'].unique()) and (interaction[1] in a['phenotype'].unique()):\n",
    "            print(parent)\n",
    "            print(f'spatial_pscore_{interaction[0]}-{interaction[1]}')\n",
    "            sm.pl.voronoi(adata, \n",
    "                            imageid='Parent',\n",
    "                            x_coordinate='Centroid X µm',\n",
    "                            y_coordinate='Centroid Y µm',\n",
    "                            flip_y=False,\n",
    "                            subset=parent,\n",
    "                            color_by=f'spatial_pscore_{interaction[0]}-{interaction[1]}', \n",
    "                            voronoi_edge_color = 'black',\n",
    "                            size_max=3000,\n",
    "                            voronoi_line_width = 0.3, \n",
    "                            voronoi_alpha = 0.8, \n",
    "                            overlay_points=None, \n",
    "                            plot_legend=True, \n",
    "                            legend_size=6,\n",
    "                            )"
   ]
  },
  {
   "cell_type": "markdown",
   "metadata": {},
   "source": [
    "### Identify regions of aggregation\n",
    "Identify spatial clusters of cells with similar phenotypes throughout tissue - purity is the minimum percentage of similarity required among cells "
   ]
  },
  {
   "cell_type": "code",
   "execution_count": null,
   "metadata": {},
   "outputs": [],
   "source": [
    "adata = sm.tl.spatial_aggregate(adata, \n",
    "                                x_coordinate='Centroid X µm', \n",
    "                                y_coordinate='Centroid Y µm', \n",
    "                                imageid='Parent', \n",
    "                                method='radius', \n",
    "                                radius=200, \n",
    "                                purity=80, \n",
    "                                label='spatial_aggregate_radius')"
   ]
  },
  {
   "cell_type": "code",
   "execution_count": null,
   "metadata": {},
   "outputs": [],
   "source": [
    "adata.obs.head()"
   ]
  },
  {
   "cell_type": "code",
   "execution_count": null,
   "metadata": {},
   "outputs": [],
   "source": [
    "d = adata.obs\n",
    "all_parents = d['Parent'].unique()\n",
    "for parent in all_parents:\n",
    "    ncells = len(d[d['Parent'] == parent].index)\n",
    "    print(parent)\n",
    "    sm.pl.voronoi(adata, \n",
    "                    imageid='Parent',\n",
    "                    x_coordinate='Centroid X µm',\n",
    "                    y_coordinate='Centroid Y µm',\n",
    "                    flip_y=False,\n",
    "                    subset=parent,\n",
    "                    color_by='spatial_aggregate_radius', \n",
    "                    voronoi_edge_color = 'black',\n",
    "                    voronoi_line_width = 0.3, \n",
    "                    voronoi_alpha = 0.8, \n",
    "                    size_max=3000,\n",
    "                    overlay_points=None, \n",
    "                    plot_legend=True, \n",
    "                    legend_size=6)"
   ]
  },
  {
   "cell_type": "code",
   "execution_count": null,
   "metadata": {},
   "outputs": [],
   "source": [
    "sp = os.path.join('..', 'outputs', 'adata2.h5ad')\n",
    "sp2 = os.path.join('..', 'outputs', 'adata_pre.h5ad')\n",
    "sp3 = os.path.join('..', 'outputs', 'adata_post.h5ad')\n",
    "\n",
    "adata.write(sp)\n",
    "adata_pre.write(sp2)\n",
    "adata_post.write(sp3)"
   ]
  }
 ],
 "metadata": {
  "kernelspec": {
   "display_name": ".venv",
   "language": "python",
   "name": "python3"
  },
  "language_info": {
   "codemirror_mode": {
    "name": "ipython",
    "version": 3
   },
   "file_extension": ".py",
   "mimetype": "text/x-python",
   "name": "python",
   "nbconvert_exporter": "python",
   "pygments_lexer": "ipython3",
   "version": "3.11.2"
  }
 },
 "nbformat": 4,
 "nbformat_minor": 2
}
