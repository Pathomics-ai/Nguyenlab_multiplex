{
 "cells": [
  {
   "cell_type": "markdown",
   "metadata": {},
   "source": [
    "### Scimap framework - spatial interaction analysis\n",
    "Quantify the spatial interactions between cell types by looking at co-localization outside of random chance."
   ]
  },
  {
   "cell_type": "code",
   "execution_count": null,
   "metadata": {},
   "outputs": [],
   "source": [
    "from functions import glasbey\n",
    "import sklearn\n",
    "from scipy.stats import ttest_ind\n",
    "from scipy.spatial.distance import cdist\n",
    "import matplotlib.pyplot as plt\n",
    "import matplotlib as mpl\n",
    "from anndata import AnnData\n",
    "import anndata as ad\n",
    "import scimap as sm\n",
    "import pandas as pd\n",
    "import numpy as np\n",
    "import scanpy as sc\n",
    "import igraph as ig\n",
    "import seaborn as sns\n",
    "import colorcet as cc\n",
    "import copy\n",
    "import os\n",
    "\n",
    "# read in data\n",
    "data_path = \"gs://mayo-nguyen-transplant/nduarte-csv/adata.h5ad\"\n",
    "adata = ad.read_h5ad(data_path)\n",
    "\n",
    "metadata = ['Image', 'Object ID', 'Classification', 'Parent', 'Centroid X µm', 'Centroid Y µm', 'Leiden', 'phenotype', 'Timepoint']\n",
    "markers = ['DAPI', 'CD44', 'HLA-DR', 'CD4', 'IFNG', 'Ki67', 'CD107a', 'CD45', 'CD20', 'CD40', 'CD8', 'Pan-Cytokeratin', 'CD68', 'HLA-A', 'CD79a', 'CD45RO', 'CD21', 'CD11c', 'HLA-E', 'IDO1', 'CD14', 'CD56', 'VISTA', 'FOXP3', 'Granzyme B', 'PCNA', 'T-bet/TBX21', 'PD-L1', 'TOX', 'PD-1', 'CD38', 'ICOS', 'CD39', 'LAG3', 'TCF-1', 'CD3e']"
   ]
  },
  {
   "cell_type": "code",
   "execution_count": null,
   "metadata": {},
   "outputs": [],
   "source": [
    "# make a pre DLN adata object and a post DLN one so can plot them separately\n",
    "pre = adata.obs['Timepoint'] == 'DLN pre'\n",
    "adata_pre = adata[pre].copy()\n",
    "post = adata.obs['Timepoint'] == 'DLN post'\n",
    "adata_post = adata[post].copy()\n",
    "print(adata_pre)"
   ]
  },
  {
   "cell_type": "code",
   "execution_count": null,
   "metadata": {},
   "outputs": [],
   "source": [
    "# pre interactions between cell types\n",
    "adata_pre = sm.tl.spatial_interaction (adata_pre, \n",
    "                                   x_coordinate='Centroid X µm',\n",
    "                                   y_coordinate='Centroid Y µm',\n",
    "                                   method='radius', \n",
    "                                   imageid='Parent',\n",
    "                                   radius=200, \n",
    "                                   permutation=100,\n",
    "                                   label='spatial_interaction_radius')"
   ]
  },
  {
   "cell_type": "code",
   "execution_count": null,
   "metadata": {},
   "outputs": [],
   "source": [
    "# pre interaction heatmap\n",
    "sm.pl.spatial_interaction(adata_pre, \n",
    "                          spatial_interaction='spatial_interaction_radius',\n",
    "                          p_val=0.01, cmap='plasma',\n",
    "                        #   row_cluster=True, col_cluster=True,\n",
    "                          linewidths=0.75, linecolor='black')"
   ]
  },
  {
   "cell_type": "code",
   "execution_count": null,
   "metadata": {},
   "outputs": [],
   "source": [
    "# post interactions between cell types\n",
    "adata_post = sm.tl.spatial_interaction (adata_post, \n",
    "                                   x_coordinate='Centroid X µm',\n",
    "                                   y_coordinate='Centroid Y µm',\n",
    "                                   method='radius', \n",
    "                                   imageid='Parent',\n",
    "                                   radius=200, \n",
    "                                   permutation=100,\n",
    "                                   label='spatial_interaction_radius')"
   ]
  },
  {
   "cell_type": "code",
   "execution_count": null,
   "metadata": {},
   "outputs": [],
   "source": [
    "# post interaction heatmap\n",
    "sm.pl.spatial_interaction(adata_post, \n",
    "                          spatial_interaction='spatial_interaction_radius',\n",
    "                          p_val=0.01, cmap='viridis',\n",
    "                        #   row_cluster=True, col_cluster=True,\n",
    "                          linewidths=0.75, linecolor='black')"
   ]
  },
  {
   "cell_type": "markdown",
   "metadata": {},
   "source": [
    "### Proximity volume and density\n",
    "- Proximity volume = number of interactions to total cells in dataset\n",
    "- Proximity density = number of interactions to number of cells in interacting types (interactions relative to pop size)"
   ]
  },
  {
   "cell_type": "code",
   "execution_count": null,
   "metadata": {},
   "outputs": [],
   "source": [
    "print(adata_pre.obs['Phenotype'].unique())"
   ]
  },
  {
   "cell_type": "code",
   "execution_count": null,
   "metadata": {},
   "outputs": [],
   "source": [
    "# spatial pscore\n",
    "interactions_oi = [('Ant Pres Macrophage' , 'Plasma B'), ('Inhib Monocyte', 'Th1 Helper T'), ('Act Macrophage', 'Prolif Cyt T'), ('T reg', 'Plasma B')]\n",
    "for interaction in interactions_oi:\n",
    "    adata =  sm.tl.spatial_pscore (adata,\n",
    "                                   imageid='Parent',\n",
    "                                   x_coordinate='Centroid X µm',\n",
    "                                   y_coordinate='Centroid Y µm',\n",
    "                                   proximity= [interaction[0], interaction[1]],\n",
    "                                   score_by = 'Timepoint',\n",
    "                                   phenotype='phenotype',\n",
    "                                   method='radius',\n",
    "                                   label=f'spatial_pscore_{interaction[0]}-{interaction[1]}',\n",
    "                                   radius=200)\n",
    "    sm.pl.spatial_pscore (adata, color='black', label=f'spatial_pscore_{interaction[0]}-{interaction[1]}', figsize=(12,8))"
   ]
  },
  {
   "cell_type": "code",
   "execution_count": null,
   "metadata": {},
   "outputs": [],
   "source": [
    "# voronoi plots to visualize the spatial pscore within the tissue - red is region of interaction\n",
    "d = adata.obs\n",
    "for interaction in interactions_oi:\n",
    "    for parent in d['Parent'].unique():\n",
    "        a = d[d['Parent'] == parent]\n",
    "        if (interaction[0] in a['phenotype'].unique()) and (interaction[1] in a['phenotype'].unique()):\n",
    "            print(parent)\n",
    "            print(f'spatial_pscore_{interaction[0]}-{interaction[1]}')\n",
    "            sm.pl.voronoi(adata, \n",
    "                            imageid='Parent',\n",
    "                            x_coordinate='Centroid X µm',\n",
    "                            y_coordinate='Centroid Y µm',\n",
    "                            flip_y=False,\n",
    "                            subset=parent,\n",
    "                            color_by=f'spatial_pscore_{interaction[0]}-{interaction[1]}', \n",
    "                            voronoi_edge_color = 'black',\n",
    "                            size_max=3000,\n",
    "                            voronoi_line_width = 0.3, \n",
    "                            voronoi_alpha = 0.8, \n",
    "                            overlay_points=None, \n",
    "                            plot_legend=True, \n",
    "                            legend_size=6,\n",
    "                            )"
   ]
  },
  {
   "cell_type": "markdown",
   "metadata": {},
   "source": [
    "### Identify regions of aggregation\n",
    "Identify spatial clusters of cells with similar phenotypes throughout tissue - purity is the minimum percentage of similarity required among cells "
   ]
  },
  {
   "cell_type": "code",
   "execution_count": null,
   "metadata": {},
   "outputs": [],
   "source": [
    "adata = sm.tl.spatial_aggregate(adata, \n",
    "                                x_coordinate='Centroid X µm', \n",
    "                                y_coordinate='Centroid Y µm', \n",
    "                                imageid='Parent', \n",
    "                                method='radius', \n",
    "                                radius=200, \n",
    "                                purity=80, \n",
    "                                label='spatial_aggregate_radius')"
   ]
  },
  {
   "cell_type": "code",
   "execution_count": null,
   "metadata": {},
   "outputs": [],
   "source": [
    "adata.obs.head()"
   ]
  },
  {
   "cell_type": "code",
   "execution_count": null,
   "metadata": {},
   "outputs": [],
   "source": [
    "d = adata.obs\n",
    "all_parents = d['Parent'].unique()\n",
    "for parent in all_parents:\n",
    "    ncells = len(d[d['Parent'] == parent].index)\n",
    "    print(parent)\n",
    "    sm.pl.voronoi(adata, \n",
    "                    imageid='Parent',\n",
    "                    x_coordinate='Centroid X µm',\n",
    "                    y_coordinate='Centroid Y µm',\n",
    "                    flip_y=False,\n",
    "                    subset=parent,\n",
    "                    color_by='spatial_aggregate_radius', \n",
    "                    voronoi_edge_color = 'black',\n",
    "                    voronoi_line_width = 0.3, \n",
    "                    voronoi_alpha = 0.8, \n",
    "                    size_max=3000,\n",
    "                    overlay_points=None, \n",
    "                    plot_legend=True, \n",
    "                    legend_size=6)"
   ]
  },
  {
   "cell_type": "code",
   "execution_count": null,
   "metadata": {},
   "outputs": [],
   "source": [
    "sp = \"gs://mayo-nguyen-transplant/nduarte-csv/adata2.h5ad\"\n",
    "sp2 = \"gs://mayo-nguyen-transplant/nduarte-csv/adata_pre.h5ad\"\n",
    "sp3 = \"gs://mayo-nguyen-transplant/nduarte-csv/adata_post.h5ad\"\n",
    "\n",
    "adata.write(sp)\n",
    "adata_pre.write(sp2)\n",
    "adata_post.write(sp3)"
   ]
  }
 ],
 "metadata": {
  "kernelspec": {
   "display_name": ".venv",
   "language": "python",
   "name": "python3"
  },
  "language_info": {
   "codemirror_mode": {
    "name": "ipython",
    "version": 3
   },
   "file_extension": ".py",
   "mimetype": "text/x-python",
   "name": "python",
   "nbconvert_exporter": "python",
   "pygments_lexer": "ipython3",
   "version": "3.11.2"
  }
 },
 "nbformat": 4,
 "nbformat_minor": 2
}
